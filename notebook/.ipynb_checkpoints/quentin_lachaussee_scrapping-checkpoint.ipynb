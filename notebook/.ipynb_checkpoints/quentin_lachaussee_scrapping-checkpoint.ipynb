{
 "cells": [
  {
   "cell_type": "markdown",
   "metadata": {},
   "source": [
    "## 0. Import des librairies"
   ]
  },
  {
   "cell_type": "code",
   "execution_count": 167,
   "metadata": {},
   "outputs": [],
   "source": [
    "import pandas as pd\n",
    "import requests\n",
    "from bs4 import BeautifulSoup\n",
    "import ipywidgets as widgets\n",
    "from IPython import display"
   ]
  },
  {
   "cell_type": "markdown",
   "metadata": {},
   "source": [
    "## 1. Mot à rechercher"
   ]
  },
  {
   "cell_type": "code",
   "execution_count": 168,
   "metadata": {},
   "outputs": [
    {
     "name": "stdout",
     "output_type": "stream",
     "text": [
      "Quel mot rechercher ? love\n"
     ]
    }
   ],
   "source": [
    "word = input(\"Quel mot rechercher ? \")"
   ]
  },
  {
   "cell_type": "markdown",
   "metadata": {},
   "source": [
    "## 2. Requeter Linguee"
   ]
  },
  {
   "cell_type": "code",
   "execution_count": 169,
   "metadata": {
    "scrolled": true
   },
   "outputs": [],
   "source": [
    "urlTarget = f\"https://www.linguee.fr/anglais-francais/traduction/{word}.html\"\n",
    "response = requests.get(urlTarget)\n",
    "love = BeautifulSoup(response.text, 'html.parser')\n",
    "body = BeautifulSoup(response.text, 'html.parser').find('body')"
   ]
  },
  {
   "cell_type": "markdown",
   "metadata": {},
   "source": [
    "## 3. Extraire les audio US et UK du mot"
   ]
  },
  {
   "cell_type": "code",
   "execution_count": 170,
   "metadata": {},
   "outputs": [
    {
     "name": "stdout",
     "output_type": "stream",
     "text": [
      "Mot : love \n",
      "Pros : adjectif\n",
      "Prononciation US :\n"
     ]
    },
    {
     "data": {
      "text/html": [
       "\n",
       "                <audio  controls=\"controls\" >\n",
       "                    <source src=\"https://www.linguee.fr/mp3/EN_US/b5/b5c0b187fe309af0f4d35982fd961d7e-300.mp3\" type=\"audio/mpeg\" />\n",
       "                    Your browser does not support the audio element.\n",
       "                </audio>\n",
       "              "
      ],
      "text/plain": [
       "<IPython.lib.display.Audio object>"
      ]
     },
     "metadata": {},
     "output_type": "display_data"
    },
    {
     "name": "stdout",
     "output_type": "stream",
     "text": [
      "Prononciation UK :\n"
     ]
    },
    {
     "data": {
      "text/html": [
       "\n",
       "                <audio  controls=\"controls\" >\n",
       "                    <source src=\"https://www.linguee.fr/mp3/EN_UK/b5/b5c0b187fe309af0f4d35982fd961d7e-300.mp3\" type=\"audio/mpeg\" />\n",
       "                    Your browser does not support the audio element.\n",
       "                </audio>\n",
       "              "
      ],
      "text/plain": [
       "<IPython.lib.display.Audio object>"
      ]
     },
     "metadata": {},
     "output_type": "display_data"
    }
   ],
   "source": [
    "span = body.find('span',{\"class\":\"tag_lemma\"})\n",
    "pros = span.findAll('span',{\"class\":\"tag_wordtype\"})[0].text\n",
    "audio_US = span.find('a',{\"class\":\"audio\"})['onclick'].split('\"')[1]\n",
    "audio_UK = span.find('a',{\"class\":\"audio\"})['onclick'].split('\"')[5]\n",
    "audio_US_url = f\"https://www.linguee.fr/mp3/{audio_US}.mp3\"\n",
    "audio_UK_url = f\"https://www.linguee.fr/mp3/{audio_UK}.mp3\"\n",
    "\n",
    "print(\"Mot :\", word, \"\\nPros :\", pros)\n",
    "print(\"Prononciation US :\")\n",
    "display.display(display.Audio(url=audio_US_url))\n",
    "print(\"Prononciation UK :\")\n",
    "display.display(display.Audio(url=audio_UK_url))\n"
   ]
  },
  {
   "cell_type": "markdown",
   "metadata": {},
   "source": [
    "## 4. Extraire les audio US et UK de tous les POS du mot"
   ]
  },
  {
   "cell_type": "code",
   "execution_count": 173,
   "metadata": {},
   "outputs": [
    {
     "data": {
      "text/html": [
       "<div>\n",
       "<style scoped>\n",
       "    .dataframe tbody tr th:only-of-type {\n",
       "        vertical-align: middle;\n",
       "    }\n",
       "\n",
       "    .dataframe tbody tr th {\n",
       "        vertical-align: top;\n",
       "    }\n",
       "\n",
       "    .dataframe thead th {\n",
       "        text-align: right;\n",
       "    }\n",
       "</style>\n",
       "<table border=\"1\" class=\"dataframe\">\n",
       "  <thead>\n",
       "    <tr style=\"text-align: right;\">\n",
       "      <th></th>\n",
       "      <th>Name</th>\n",
       "      <th>Tag</th>\n",
       "      <th>Link_US</th>\n",
       "      <th>Link_UK</th>\n",
       "    </tr>\n",
       "  </thead>\n",
       "  <tbody>\n",
       "    <tr>\n",
       "      <th>0</th>\n",
       "      <td>love</td>\n",
       "      <td>adjectif</td>\n",
       "      <td>https://www.linguee.fr/mp3/EN_US/b5/b5c0b187fe...</td>\n",
       "      <td>https://www.linguee.fr/mp3/EN_UK/b5/b5c0b187fe...</td>\n",
       "    </tr>\n",
       "    <tr>\n",
       "      <th>1</th>\n",
       "      <td>love</td>\n",
       "      <td>nom</td>\n",
       "      <td>https://www.linguee.fr/mp3/EN_US/b5/b5c0b187fe...</td>\n",
       "      <td>https://www.linguee.fr/mp3/EN_UK/b5/b5c0b187fe...</td>\n",
       "    </tr>\n",
       "    <tr>\n",
       "      <th>2</th>\n",
       "      <td>love sb./sth.</td>\n",
       "      <td>verbe</td>\n",
       "      <td>https://www.linguee.fr/mp3/EN_US/b5/b5c0b187fe...</td>\n",
       "      <td>https://www.linguee.fr/mp3/EN_UK/b5/b5c0b187fe...</td>\n",
       "    </tr>\n",
       "  </tbody>\n",
       "</table>\n",
       "</div>"
      ],
      "text/plain": [
       "            Name       Tag                                            Link_US  \\\n",
       "0           love  adjectif  https://www.linguee.fr/mp3/EN_US/b5/b5c0b187fe...   \n",
       "1           love       nom  https://www.linguee.fr/mp3/EN_US/b5/b5c0b187fe...   \n",
       "2  love sb./sth.     verbe  https://www.linguee.fr/mp3/EN_US/b5/b5c0b187fe...   \n",
       "\n",
       "                                             Link_UK  \n",
       "0  https://www.linguee.fr/mp3/EN_UK/b5/b5c0b187fe...  \n",
       "1  https://www.linguee.fr/mp3/EN_UK/b5/b5c0b187fe...  \n",
       "2  https://www.linguee.fr/mp3/EN_UK/b5/b5c0b187fe...  "
      ]
     },
     "execution_count": 173,
     "metadata": {},
     "output_type": "execute_result"
    }
   ],
   "source": [
    "span = body.findAll('span',{\"class\":\"tag_lemma\"})\n",
    "df = pd.DataFrame(columns=[\"Name\", \"Tag\", \"Link_US\", \"Link_UK\",])\n",
    "for i,v in enumerate(love_aside):\n",
    "    name = v.findAll('a',{\"class\":\"dictLink\"})\n",
    "    link = v.findAll('a',{\"class\":\"audio\"})\n",
    "    tag = v.findAll('span',{\"class\":\"tag_wordtype\"})\n",
    "    if len(tag)>0:\n",
    "        for l in link:\n",
    "            audio_US = l['onclick'].split('\"')[1]\n",
    "            audio_UK = l['onclick'].split('\"')[5]\n",
    "            audio_US_url = f\"https://www.linguee.fr/mp3/{audio_US}.mp3\"\n",
    "            audio_UK_url = f\"https://www.linguee.fr/mp3/{audio_UK}.mp3\"\n",
    "            df.loc[i] = [name[0].text, tag[0].text, audio_US_url, audio_UK_url]\n",
    "df"
   ]
  },
  {
   "cell_type": "code",
   "execution_count": 179,
   "metadata": {},
   "outputs": [
    {
     "name": "stdout",
     "output_type": "stream",
     "text": [
      "Mot : Love\n",
      "\n",
      "Pros : adjectif\n",
      "Prononciation US :\n"
     ]
    },
    {
     "data": {
      "text/html": [
       "\n",
       "                <audio  controls=\"controls\" >\n",
       "                    <source src=\"https://www.linguee.fr/mp3/EN_US/b5/b5c0b187fe309af0f4d35982fd961d7e-300.mp3\" type=\"audio/mpeg\" />\n",
       "                    Your browser does not support the audio element.\n",
       "                </audio>\n",
       "              "
      ],
      "text/plain": [
       "<IPython.lib.display.Audio object>"
      ]
     },
     "metadata": {},
     "output_type": "display_data"
    },
    {
     "name": "stdout",
     "output_type": "stream",
     "text": [
      "Prononciation UK :\n"
     ]
    },
    {
     "data": {
      "text/html": [
       "\n",
       "                <audio  controls=\"controls\" >\n",
       "                    <source src=\"https://www.linguee.fr/mp3/EN_UK/b5/b5c0b187fe309af0f4d35982fd961d7e-300.mp3\" type=\"audio/mpeg\" />\n",
       "                    Your browser does not support the audio element.\n",
       "                </audio>\n",
       "              "
      ],
      "text/plain": [
       "<IPython.lib.display.Audio object>"
      ]
     },
     "metadata": {},
     "output_type": "display_data"
    },
    {
     "name": "stdout",
     "output_type": "stream",
     "text": [
      "\n",
      "Pros : nom\n",
      "Prononciation US :\n"
     ]
    },
    {
     "data": {
      "text/html": [
       "\n",
       "                <audio  controls=\"controls\" >\n",
       "                    <source src=\"https://www.linguee.fr/mp3/EN_US/b5/b5c0b187fe309af0f4d35982fd961d7e-101.mp3\" type=\"audio/mpeg\" />\n",
       "                    Your browser does not support the audio element.\n",
       "                </audio>\n",
       "              "
      ],
      "text/plain": [
       "<IPython.lib.display.Audio object>"
      ]
     },
     "metadata": {},
     "output_type": "display_data"
    },
    {
     "name": "stdout",
     "output_type": "stream",
     "text": [
      "Prononciation UK :\n"
     ]
    },
    {
     "data": {
      "text/html": [
       "\n",
       "                <audio  controls=\"controls\" >\n",
       "                    <source src=\"https://www.linguee.fr/mp3/EN_UK/b5/b5c0b187fe309af0f4d35982fd961d7e-101.mp3\" type=\"audio/mpeg\" />\n",
       "                    Your browser does not support the audio element.\n",
       "                </audio>\n",
       "              "
      ],
      "text/plain": [
       "<IPython.lib.display.Audio object>"
      ]
     },
     "metadata": {},
     "output_type": "display_data"
    },
    {
     "name": "stdout",
     "output_type": "stream",
     "text": [
      "\n",
      "Pros : verbe\n",
      "Prononciation US :\n"
     ]
    },
    {
     "data": {
      "text/html": [
       "\n",
       "                <audio  controls=\"controls\" >\n",
       "                    <source src=\"https://www.linguee.fr/mp3/EN_US/b5/b5c0b187fe309af0f4d35982fd961d7e-200.mp3\" type=\"audio/mpeg\" />\n",
       "                    Your browser does not support the audio element.\n",
       "                </audio>\n",
       "              "
      ],
      "text/plain": [
       "<IPython.lib.display.Audio object>"
      ]
     },
     "metadata": {},
     "output_type": "display_data"
    },
    {
     "name": "stdout",
     "output_type": "stream",
     "text": [
      "Prononciation UK :\n"
     ]
    },
    {
     "data": {
      "text/html": [
       "\n",
       "                <audio  controls=\"controls\" >\n",
       "                    <source src=\"https://www.linguee.fr/mp3/EN_UK/b5/b5c0b187fe309af0f4d35982fd961d7e-200.mp3\" type=\"audio/mpeg\" />\n",
       "                    Your browser does not support the audio element.\n",
       "                </audio>\n",
       "              "
      ],
      "text/plain": [
       "<IPython.lib.display.Audio object>"
      ]
     },
     "metadata": {},
     "output_type": "display_data"
    }
   ],
   "source": [
    "print(\"Mot :\", df.Name[0].capitalize())\n",
    "for i in range(len(df)):\n",
    "    print(\"\\nPros :\", df.Tag[i])\n",
    "    print(\"Prononciation US :\")\n",
    "    display.display(display.Audio(url=df.Link_US[i]))\n",
    "    print(\"Prononciation UK :\")\n",
    "    display.display(display.Audio(url=df.Link_UK[i]))\n"
   ]
  }
 ],
 "metadata": {
  "kernelspec": {
   "display_name": "Python 3",
   "language": "python",
   "name": "python3"
  },
  "language_info": {
   "codemirror_mode": {
    "name": "ipython",
    "version": 3
   },
   "file_extension": ".py",
   "mimetype": "text/x-python",
   "name": "python",
   "nbconvert_exporter": "python",
   "pygments_lexer": "ipython3",
   "version": "3.7.4"
  }
 },
 "nbformat": 4,
 "nbformat_minor": 4
}
