{
 "cells": [
  {
   "cell_type": "markdown",
   "metadata": {},
   "source": [
    "# DicoCo\n",
    "\n",
    "*Quentin LACHAUSSEE*"
   ]
  },
  {
   "cell_type": "code",
   "execution_count": 54,
   "metadata": {},
   "outputs": [],
   "source": [
    "import pandas as pd\n",
    "import requests\n",
    "import pandas as pd\n",
    "import re\n",
    "from datetime import datetime\n",
    "from pathlib import Path\n",
    "import ipywidgets as widgets\n",
    "from IPython.display import display, clear_output, HTML, Markdown \n",
    "import requests\n",
    "from bs4 import BeautifulSoup"
   ]
  },
  {
   "cell_type": "code",
   "execution_count": 55,
   "metadata": {},
   "outputs": [
    {
     "data": {
      "application/vnd.jupyter.widget-view+json": {
       "model_id": "3b3e123339a041d2bc7382e341403b58",
       "version_major": 2,
       "version_minor": 0
      },
      "text/plain": [
       "HBox(children=(Text(value='^a', description='filtre hwd', placeholder='.*'), Text(value='', description='filtr…"
      ]
     },
     "metadata": {},
     "output_type": "display_data"
    },
    {
     "data": {
      "text/html": [
       "<table><tr><th>motVedette</th>                                <th>nbSyll</th>                                <th>pronOrigin</th>                                <th>pronSampa</th>                                <th>pronPos</th>                                <th>pronIpa</th>                                <th style=\"text-align:center\">US</th>                                <th style=\"text-align:center\">UK</th>                            </tr><tr><td><a href=https://www.linguee.fr/anglais-francais/traduction/abacus.html target=\"_blank\" >abacus</a></td>                              <td>3</td>                              <td>aʹbăcus</td>                              <td>{ b @ k @ s</td>                              <td>noun</td>                              <td>æbəkəs</td>                              <td> <audio controls src=https://www.linguee.fr/mp3/EN_US/13/13f27b1072bbf7719d0d267b083ff91c-101.mp3><code>audio</code></audio></td>                              <td> <audio controls src=https://www.linguee.fr/mp3/EN_UK/13/13f27b1072bbf7719d0d267b083ff91c-101.mp3><code>audio</code></audio></td>                          </tr><tr><td><a href=https://www.linguee.fr/anglais-francais/traduction/abandon.html target=\"_blank\" >abandon</a></td>                              <td>3</td>                              <td>ābăʹndon</td>                              <td>@ b { n d @ n</td>                              <td>verb</td>                              <td>əbændən</td>                              <td> <audio controls src=https://www.linguee.fr/mp3/EN_US/b0/b0bbb2218aa3c78802a8ed8c78aa2cae-200.mp3><code>audio</code></audio></td>                              <td> <audio controls src=https://www.linguee.fr/mp3/EN_UK/b0/b0bbb2218aa3c78802a8ed8c78aa2cae-200.mp3><code>audio</code></audio></td>                          </tr><tr><td><a href=https://www.linguee.fr/anglais-francais/traduction/abandoned.html target=\"_blank\" >abandoned</a></td>                              <td>4</td>                              <td>ābăʹndŏned</td>                              <td>@ b { n d @ n d</td>                              <td>adjective</td>                              <td>əbændənd</td>                              <td> <audio controls src=https://www.linguee.fr/mp3/EN_US/81/81f3d2a447d9c5579b446ff048827de1-300.mp3><code>audio</code></audio></td>                              <td> <audio controls src=https://www.linguee.fr/mp3/EN_UK/81/81f3d2a447d9c5579b446ff048827de1-300.mp3><code>audio</code></audio></td>                          </tr></table>"
      ],
      "text/plain": [
       "<IPython.core.display.HTML object>"
      ]
     },
     "metadata": {},
     "output_type": "display_data"
    }
   ],
   "source": [
    "chemin_Buchanan_riche = \"./../data/dataframe/BuchananRich.csv\"\n",
    "df_Buchanan_riche = pd.read_csv(chemin_Buchanan_riche, sep=\";\")\n",
    "\n",
    "filter_hwd = widgets.Text(placeholder='.*',value='^a',description=\"filtre hwd\")\n",
    "filter_ipa = widgets.Text(placeholder='.*',value='',description=\"filtre ipa\")\n",
    "filter_occ = widgets.IntSlider(value=3, min=1, max=10, step=1, description='occ. Max:')\n",
    "\n",
    "def filter_df(df, str_hwd, str_ipa, int_occ):    \n",
    "    return df[(df['motVedette'].str.contains(str_hwd, na=False,flags=re.IGNORECASE, regex=True)) &\n",
    "              (df['pronIpa'].str.contains(str_ipa, na=False,flags=re.IGNORECASE, regex=True))].head(int_occ).reset_index(drop=True)\n",
    "\n",
    "def on_button_clicked(_):\n",
    "    clear_output()\n",
    "    display(input_widget)\n",
    "\n",
    "    str_hwd = filter_hwd.value\n",
    "    str_ipa = filter_ipa.value\n",
    "    int_occ = int(filter_occ.value)\n",
    "    if str_hwd==\"\":\n",
    "        str_hwd = \".*\"\n",
    "    else:\n",
    "        pass\n",
    "    if str_ipa==\"\":\n",
    "        str_ipa = \".*\"\n",
    "    else:\n",
    "        pass\n",
    "    \n",
    "    df_filtered = filter_df(df_Buchanan_riche, str_hwd, str_ipa, int_occ)\n",
    "\n",
    "    tableau_label = '<table><tr><th>motVedette</th>\\\n",
    "                                <th>nbSyll</th>\\\n",
    "                                <th>pronOrigin</th>\\\n",
    "                                <th>pronSampa</th>\\\n",
    "                                <th>pronPos</th>\\\n",
    "                                <th>pronIpa</th>\\\n",
    "                                <th style=\"text-align:center\">US</th>\\\n",
    "                                <th style=\"text-align:center\">UK</th>\\\n",
    "                            </tr>'\n",
    "    for i in range(len(df_filtered)):\n",
    "        word = df_filtered.motVedette[i]\n",
    "        url = f\"https://www.linguee.fr/anglais-francais/traduction/{word}.html\"\n",
    "        response = requests.get(url)\n",
    "        body = BeautifulSoup(response.text, 'html.parser').find('body')\n",
    "        span = body.find('span',{\"class\":\"tag_lemma\"})\n",
    "        audio_US = span.find('a',{\"class\":\"audio\"})['onclick'].split('\"')[1]\n",
    "        audio_UK = span.find('a',{\"class\":\"audio\"})['onclick'].split('\"')[5]\n",
    "        audio_US_url = f\"https://www.linguee.fr/mp3/{audio_US}.mp3\"\n",
    "        audio_UK_url = f\"https://www.linguee.fr/mp3/{audio_UK}.mp3\"\n",
    "\n",
    "        tableau_label += '<tr><td><a href='+url+' target=\"_blank\" >'+word+'</a></td>\\\n",
    "                              <td>'+str(df_filtered.nbSyll[i])+'</td>\\\n",
    "                              <td>'+df_filtered.pron[i]+'</td>\\\n",
    "                              <td>'+df_filtered.pronSampa[i]+'</td>\\\n",
    "                              <td>'+df_filtered.pronPos[i]+'</td>\\\n",
    "                              <td>'+df_filtered.pronIpa[i]+'</td>\\\n",
    "                              <td> <audio controls src='+audio_US_url+'><code>audio</code></audio></td>\\\n",
    "                              <td> <audio controls src='+audio_UK_url+'><code>audio</code></audio></td>\\\n",
    "                          </tr>'\n",
    "\n",
    "    \n",
    "    tableau_label += '</table>'\n",
    "    tableau = HTML(tableau_label)\n",
    "    display(tableau)\n",
    "\n",
    "\n",
    "button = widgets.Button(description='Collecter')    \n",
    "button.on_click(on_button_clicked)\n",
    "\n",
    "input_widget = widgets.HBox([filter_hwd, filter_ipa, filter_occ, button])\n",
    "\n",
    "display(input_widget)\n"
   ]
  }
 ],
 "metadata": {
  "kernelspec": {
   "display_name": "Python 3",
   "language": "python",
   "name": "python3"
  },
  "language_info": {
   "codemirror_mode": {
    "name": "ipython",
    "version": 3
   },
   "file_extension": ".py",
   "mimetype": "text/x-python",
   "name": "python",
   "nbconvert_exporter": "python",
   "pygments_lexer": "ipython3",
   "version": "3.7.4"
  }
 },
 "nbformat": 4,
 "nbformat_minor": 4
}
