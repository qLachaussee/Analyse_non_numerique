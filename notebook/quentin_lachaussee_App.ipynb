{
 "cells": [
  {
   "cell_type": "markdown",
   "metadata": {},
   "source": [
    "# DicoCo\n",
    "\n",
    "*Quentin LACHAUSSEE*"
   ]
  },
  {
   "cell_type": "code",
   "execution_count": 25,
   "metadata": {},
   "outputs": [],
   "source": [
    "import pandas as pd\n",
    "import requests\n",
    "import pandas as pd\n",
    "import re\n",
    "from datetime import datetime\n",
    "from pathlib import Path\n",
    "import ipywidgets as widgets\n",
    "from IPython.display import display, clear_output, HTML, Markdown \n",
    "import requests\n",
    "from bs4 import BeautifulSoup\n",
    "import numpy as np\n",
    "import matplotlib.pyplot as plt\n",
    "import librosa\n",
    "import librosa.display\n",
    "from requests_html import HTMLSession\n",
    "import os.path"
   ]
  },
  {
   "cell_type": "code",
   "execution_count": 27,
   "metadata": {
    "scrolled": false
   },
   "outputs": [
    {
     "data": {
      "application/vnd.jupyter.widget-view+json": {
       "model_id": "229a5f7c3619452a80764f1f757228b8",
       "version_major": 2,
       "version_minor": 0
      },
      "text/plain": [
       "VBox(children=(HBox(children=(Text(value='^a', description='filtre hwd', placeholder='.*'), Text(value='', des…"
      ]
     },
     "metadata": {},
     "output_type": "display_data"
    }
   ],
   "source": [
    "chemin_Buchanan_riche = \"./../data/dataframe/BuchananRich.csv\"\n",
    "df_Buchanan_riche = pd.read_csv(chemin_Buchanan_riche, sep=\";\")\n",
    "\n",
    "filter_hwd = widgets.Text(placeholder='.*',value='^a',description=\"filtre hwd\")\n",
    "filter_ipa = widgets.Text(placeholder='.*',value='',description=\"filtre ipa\")\n",
    "filter_occ = widgets.IntSlider(value=3, min=1, max=10, step=1, description='occ. Max:')\n",
    "\n",
    "out = widgets.Output()\n",
    "\n",
    "def filter_df(df, str_hwd, str_ipa, int_occ):    \n",
    "    return df[(df['motVedette'].str.contains(str_hwd, na=False,flags=re.IGNORECASE, regex=True)) &\n",
    "              (df['pronIpa'].str.contains(str_ipa, na=False,flags=re.IGNORECASE, regex=True))].head(int_occ).reset_index(drop=True)\n",
    "\n",
    "def save_load_mp3(link, word, langage):\n",
    "    path_png = f\"./../data/audio/song_{word}_{langage}.png\"\n",
    "    \n",
    "    if os.path.exists(path_png) == False:\n",
    "        doc = requests.get(link)\n",
    "        with open(f\"./../data/audio/song.mp3\", 'wb') as f:\n",
    "            f.write(doc.content)\n",
    "        path = f\"./../data/audio/song.mp3\"\n",
    "        y, sr = librosa.load(path)\n",
    "        D = librosa.stft(y)  # STFT of y\n",
    "        S_db = librosa.amplitude_to_db(np.abs(D), ref=np.max)\n",
    "        fig, ax = plt.subplots()\n",
    "        img = librosa.display.specshow(S_db, x_axis='time', y_axis='linear', ax=ax)\n",
    "        fig.colorbar(img, ax=ax, format=\"%+2.f dB\")\n",
    "        plt.savefig(path_png)\n",
    "\n",
    "    return path_png\n",
    "\n",
    "def on_button_clicked(_):\n",
    "    with out:\n",
    "        \n",
    "        clear_output()\n",
    "\n",
    "        str_hwd = filter_hwd.value\n",
    "        str_ipa = filter_ipa.value\n",
    "        int_occ = int(filter_occ.value)\n",
    "        if str_hwd==\"\":\n",
    "            str_hwd = \".*\"\n",
    "        else:\n",
    "            pass\n",
    "        if str_ipa==\"\":\n",
    "            str_ipa = \".*\"\n",
    "        else:\n",
    "            pass\n",
    "\n",
    "        df_filtered = filter_df(df_Buchanan_riche, str_hwd, str_ipa, int_occ)\n",
    "        \n",
    "        tableau_label = '<table><tr><th style=\"border: 1px solid black; text-align: center;\">motVedette</th>\\\n",
    "                                    <th style=\"border: 1px solid black; text-align: center;\">nbSyll</th>\\\n",
    "                                    <th style=\"border: 1px solid black; text-align: center;\">pronOrigin</th>\\\n",
    "                                    <th style=\"border: 1px solid black; text-align: center;\">pronSampa</th>\\\n",
    "                                    <th style=\"border: 1px solid black; text-align: center;\">pronPos</th>\\\n",
    "                                    <th style=\"border: 1px solid black; text-align: center;\">pronIpa</th>\\\n",
    "                                    <th style=\"border: 1px solid black; text-align: center;\">US</th>\\\n",
    "                                    <th style=\"border: 1px solid black; text-align: center;\">UK</th>\\\n",
    "                                </tr>'\n",
    "        for i in range(len(df_filtered)):\n",
    "            word = df_filtered.motVedette[i]\n",
    "            url = f\"https://www.linguee.fr/anglais-francais/traduction/{word}.html\"\n",
    "            response = requests.get(url)\n",
    "            if response.status_code == 503:\n",
    "                print(\"Nombre de requête dépassé\")\n",
    "                break\n",
    "            body = BeautifulSoup(response.text, 'html.parser').find('body')\n",
    "            span = body.find('span',{\"class\":\"tag_lemma\"})\n",
    "            audio_US = span.find('a',{\"class\":\"audio\"})['onclick'].split('\"')[1]\n",
    "            audio_UK = span.find('a',{\"class\":\"audio\"})['onclick'].split('\"')[5]\n",
    "            audio_US_url = f\"https://www.linguee.fr/mp3/{audio_US}.mp3\"\n",
    "            audio_UK_url = f\"https://www.linguee.fr/mp3/{audio_UK}.mp3\"\n",
    "            audio_US_plot = save_load_mp3(audio_US_url, word, \"us\")\n",
    "            audio_UK_plot = save_load_mp3(audio_UK_url, word, \"uk\")\n",
    "\n",
    "            tableau_label += '<tr><td rowspan=\"2\" style=\"border: 1px solid black; text-align: center;\"><a href='+url+' target=\"_blank\" >'+word+'</a></td>\\\n",
    "                                  <td rowspan=\"2\" style=\"border: 1px solid black; text-align: center;\">'+str(df_filtered.nbSyll[i])+'</td>\\\n",
    "                                  <td rowspan=\"2\" style=\"border: 1px solid black; text-align: center;\">'+df_filtered.pron[i]+'</td>\\\n",
    "                                  <td rowspan=\"2\" style=\"border: 1px solid black; text-align: center;\">'+df_filtered.pronSampa[i]+'</td>\\\n",
    "                                  <td rowspan=\"2\" style=\"border: 1px solid black; text-align: center;\">'+df_filtered.pronPos[i]+'</td>\\\n",
    "                                  <td rowspan=\"2\" style=\"border: 1px solid black; text-align: center;\">'+df_filtered.pronIpa[i]+'</td>\\\n",
    "                                  <td style=\"border: 1px solid black; border-bottom: 0px;\"> <audio controls src=\"'+audio_US_url+'\"><code>audio</code></audio></td>\\\n",
    "                                  <td style=\"border: 1px solid black; border-bottom: 0px;\"> <audio controls src=\"'+audio_UK_url+'\"><code>audio</code></audio></td>\\\n",
    "                              </tr>\\\n",
    "                              <tr><td style=\"border: 1px solid black; border-top: 0px;\"> <img src=\"'+audio_US_plot+'\"></img></td>\\\n",
    "                                  <td style=\"border: 1px solid black; border-top: 0px;\"> <img src=\"'+audio_UK_plot+'\"></img></td>\\\n",
    "                              </tr>'\n",
    "\n",
    "\n",
    "        tableau_label += '</table>'\n",
    "        tableau = HTML(tableau_label)\n",
    "        display(tableau)\n",
    "\n",
    "\n",
    "button = widgets.Button(description='Collecter')    \n",
    "button.on_click(on_button_clicked)\n",
    "\n",
    "input_filter = widgets.HBox([filter_hwd, filter_ipa, filter_occ, button])\n",
    "\n",
    "output_filter = widgets.VBox([out])\n",
    "\n",
    "all_widget = widgets.VBox([input_filter, output_filter])\n",
    "\n",
    "display(all_widget)\n"
   ]
  }
 ],
 "metadata": {
  "kernelspec": {
   "display_name": "Python 3",
   "language": "python",
   "name": "python3"
  },
  "language_info": {
   "codemirror_mode": {
    "name": "ipython",
    "version": 3
   },
   "file_extension": ".py",
   "mimetype": "text/x-python",
   "name": "python",
   "nbconvert_exporter": "python",
   "pygments_lexer": "ipython3",
   "version": "3.8.8"
  }
 },
 "nbformat": 4,
 "nbformat_minor": 4
}
