{
 "cells": [
  {
   "cell_type": "markdown",
   "metadata": {},
   "source": [
    "# DicoCo\n",
    "\n",
    "*prenom NOM*"
   ]
  },
  {
   "cell_type": "code",
   "execution_count": 1,
   "metadata": {},
   "outputs": [],
   "source": [
    "# import necessaire à la création des widgets\n",
    "from IPython.display import display, clear_output, HTML, Markdown \n",
    "import ipywidgets as widgets\n"
   ]
  },
  {
   "cell_type": "code",
   "execution_count": 2,
   "metadata": {},
   "outputs": [],
   "source": [
    "# definition du widget permettant de taper un texte \n",
    "textTarget = widgets.Text(\n",
    "       value=\"love\",\n",
    "       description='filtre hwd',\n",
    "       layout={'width': '300px'} )"
   ]
  },
  {
   "cell_type": "code",
   "execution_count": 3,
   "metadata": {},
   "outputs": [],
   "source": [
    "# définition du widget button permettant de lancer l'extraction\n",
    "button = widgets.Button(description='Démarrer')\n",
    "\n",
    "# définition du widget permettant l'affichage d'une sortie\n",
    "out1 = widgets.Output()\n",
    "out2 = widgets.Output()\n",
    "\n",
    "# spécifier les actions à réaliser lors de l'appui sur le bouton\n",
    "def on_button_clicked(_):\n",
    "    \n",
    "    # récupérer le texte saisi par l'utilisateur\n",
    "    targetWord = textTarget.value\n",
    "\n",
    "    with out1:\n",
    "        clear_output()\n",
    "        \n",
    "        urlLongman = \"https://www.ldoceonline.com/dictionary/\"\n",
    "        urlTarget = urlLongman+targetWord\n",
    "        display(HTML('<a href=\"'+urlTarget+'\" target=\"_blank\" >'+'longman : '+targetWord+'</a>'))\n",
    "\n",
    "    with out2:\n",
    "        clear_output()\n",
    "        \n",
    "        targetWord = textTarget.value\n",
    "        urlLinguee = \"https://www.linguee.fr/anglais-francais/traduction/\"\n",
    "        urlTarget = urlLinguee+targetWord+'.html'\n",
    "        display(HTML('<a href=\"'+urlTarget+'\" target=\"_blank\" >'+'linguee : '+targetWord+'</a>'))\n",
    "        \n",
    "        \n",
    "button.on_click(on_button_clicked)"
   ]
  },
  {
   "cell_type": "code",
   "execution_count": 4,
   "metadata": {},
   "outputs": [
    {
     "data": {
      "application/vnd.jupyter.widget-view+json": {
       "model_id": "8b707ca9af084c64b3e3411edb06a9b4",
       "version_major": 2,
       "version_minor": 0
      },
      "text/plain": [
       "VBox(children=(HBox(children=(Text(value='love', description='filtre hwd', layout=Layout(width='300px')), Butt…"
      ]
     },
     "metadata": {},
     "output_type": "display_data"
    }
   ],
   "source": [
    "# les widgets de filtre input\n",
    "vbFiltres = widgets.HBox([textTarget, button])\n",
    "\n",
    "# les widgets d'output\n",
    "vbOuts = widgets.VBox([out1,out2])\n",
    "\n",
    "hbAllWidgets = widgets.VBox([vbFiltres,vbOuts])\n",
    "hbAllWidgets"
   ]
  },
  {
   "cell_type": "code",
   "execution_count": 46,
   "metadata": {},
   "outputs": [],
   "source": [
    "import pandas as pd\n",
    "import requests\n",
    "import pandas as pd\n",
    "import re\n",
    "from datetime import datetime\n",
    "from pathlib import Path\n",
    "import ipywidgets as widgets\n",
    "from IPython.display import display, clear_output, HTML, Markdown \n",
    "import requests\n",
    "from bs4 import BeautifulSoup"
   ]
  },
  {
   "cell_type": "code",
   "execution_count": 69,
   "metadata": {},
   "outputs": [
    {
     "data": {
      "application/vnd.jupyter.widget-view+json": {
       "model_id": "ef38f1b53c2941ab8cf818b8078b6aab",
       "version_major": 2,
       "version_minor": 0
      },
      "text/plain": [
       "HBox(children=(Text(value='^ab', description='filtre hwd', placeholder='.*'), Text(value='', description='filt…"
      ]
     },
     "metadata": {},
     "output_type": "display_data"
    },
    {
     "data": {
      "text/html": [
       "<table><tr><th>motVedette</th>                                <th>nbSyll</th>                                <th>pronOrigin</th>                                <th>pronSampa</th>                                <th>pronIpa</th>                                <th>US</th>                                <th>UK</th>                            </tr><tr><td><a href=https://www.linguee.fr/anglais-francais/traduction/ability.html target=\"_blank\" >ability</a></td>                              <td>4</td>                              <td>abĭʹlĭty</td>                              <td> </td>                              <td> </td>                              <td> <audio controls src=https://www.linguee.fr/mp3/EN_US/42/424dbe533d5a5b0904ee6f79262caa5c-101.mp3><code>audio</code></audio></td>                              <td> <audio controls src=https://www.linguee.fr/mp3/EN_UK/42/424dbe533d5a5b0904ee6f79262caa5c-101.mp3><code>audio</code></audio></td>                          </tr><tr><td><a href=https://www.linguee.fr/anglais-francais/traduction/abridge.html target=\"_blank\" >abridge</a></td>                              <td>2</td>                              <td>abrĭʹdge</td>                              <td> </td>                              <td> </td>                              <td> <audio controls src=https://www.linguee.fr/mp3/EN_US/8c/8c1efd807f8c0014535fb72efe5661fb-200.mp3><code>audio</code></audio></td>                              <td> <audio controls src=https://www.linguee.fr/mp3/EN_UK/8c/8c1efd807f8c0014535fb72efe5661fb-200.mp3><code>audio</code></audio></td>                          </tr><tr><td><a href=https://www.linguee.fr/anglais-francais/traduction/abridgment.html target=\"_blank\" >abridgment</a></td>                              <td>3</td>                              <td>abrĭʹdgment</td>                              <td> </td>                              <td> </td>                              <td> <audio controls src=https://www.linguee.fr/mp3/EN_US/47/47f00a3da9b4a6df1c48709a41fd43e5-300.mp3><code>audio</code></audio></td>                              <td> <audio controls src=https://www.linguee.fr/mp3/EN_UK/47/47f00a3da9b4a6df1c48709a41fd43e5-300.mp3><code>audio</code></audio></td>                          </tr></table>"
      ],
      "text/plain": [
       "<IPython.core.display.HTML object>"
      ]
     },
     "metadata": {},
     "output_type": "display_data"
    }
   ],
   "source": [
    "chemin_Buchanan_riche = \"./../data/dictionary/BuchananRich.csv\"\n",
    "df_Buchanan_riche = pd.read_csv(chemin_Buchanan_riche, sep=\";\")\n",
    "\n",
    "filter_hwd = widgets.Text(placeholder='.*',value='^a',description=\"filtre hwd\")\n",
    "filter_ipa = widgets.Text(placeholder='.*',value='',description=\"filtre ipa\")\n",
    "filter_occ = widgets.IntSlider(value=3, min=0, max=10, step=1, description='occ. Max:')\n",
    "\n",
    "def filter_df(df, str_hwd, str_ipa, int_occ):    \n",
    "    return df[(df['pron'].str.contains(str_hwd, na=False,flags=re.IGNORECASE, regex=True)) &\n",
    "              (df['motVedette'].str.contains(str_ipa, na=False,flags=re.IGNORECASE, regex=True))].head(int_occ).reset_index(drop=True)\n",
    "\n",
    "def on_button_clicked(_):\n",
    "    clear_output()\n",
    "    display(input_widget)\n",
    "\n",
    "    str_hwd = filter_hwd.value\n",
    "    str_ipa = filter_ipa.value\n",
    "    int_occ = int(filter_occ.value)\n",
    "    if str_hwd==\"\":\n",
    "        str_hwd = \".*\"\n",
    "    else:\n",
    "        pass\n",
    "    if str_ipa==\"\":\n",
    "        str_ipa = \".*\"\n",
    "    else:\n",
    "        pass\n",
    "    \n",
    "    df_filtered = filter_df(df_Buchanan_riche, str_hwd, str_ipa, int_occ)\n",
    "\n",
    "    tableau_label = '<table><tr><th>motVedette</th>\\\n",
    "                                <th>nbSyll</th>\\\n",
    "                                <th>pronOrigin</th>\\\n",
    "                                <th>pronSampa</th>\\\n",
    "                                <th>pronIpa</th>\\\n",
    "                                <th>US</th>\\\n",
    "                                <th>UK</th>\\\n",
    "                            </tr>'\n",
    "    for i in range(len(df_filtered)):\n",
    "        word = df_filtered.motVedette[i]\n",
    "        url = f\"https://www.linguee.fr/anglais-francais/traduction/{word}.html\"\n",
    "        response = requests.get(url)\n",
    "        body = BeautifulSoup(response.text, 'html.parser').find('body')\n",
    "        span = body.find('span',{\"class\":\"tag_lemma\"})\n",
    "        audio_US = span.find('a',{\"class\":\"audio\"})['onclick'].split('\"')[1]\n",
    "        audio_UK = span.find('a',{\"class\":\"audio\"})['onclick'].split('\"')[5]\n",
    "        audio_US_url = f\"https://www.linguee.fr/mp3/{audio_US}.mp3\"\n",
    "        audio_UK_url = f\"https://www.linguee.fr/mp3/{audio_UK}.mp3\"\n",
    "\n",
    "        tableau_label += '<tr><td><a href='+url+' target=\"_blank\" >'+word+'</a></td>\\\n",
    "                              <td>'+str(df_filtered.nbSyll[i])+'</td>\\\n",
    "                              <td>'+df_filtered.pron[i]+'</td>\\\n",
    "                              <td> </td>\\\n",
    "                              <td> </td>\\\n",
    "                              <td> <audio controls src='+audio_US_url+'><code>audio</code></audio></td>\\\n",
    "                              <td> <audio controls src='+audio_UK_url+'><code>audio</code></audio></td>\\\n",
    "                          </tr>'\n",
    "\n",
    "    \n",
    "    tableau_label += '</table>'\n",
    "    tableau = HTML(tableau_label)\n",
    "    display(tableau)\n",
    "\n",
    "\n",
    "button = widgets.Button(description='Collecter')    \n",
    "button.on_click(on_button_clicked)\n",
    "\n",
    "input_widget = widgets.HBox([filter_hwd, filter_ipa, filter_occ, button])\n",
    "\n",
    "display(input_widget)\n"
   ]
  },
  {
   "cell_type": "code",
   "execution_count": 53,
   "metadata": {},
   "outputs": [
    {
     "ename": "NameError",
     "evalue": "name 'out1' is not defined",
     "output_type": "error",
     "traceback": [
      "\u001b[1;31m---------------------------------------------------------------------------\u001b[0m",
      "\u001b[1;31mNameError\u001b[0m                                 Traceback (most recent call last)",
      "\u001b[1;32m<ipython-input-53-f6a6c73d6a77>\u001b[0m in \u001b[0;36m<module>\u001b[1;34m\u001b[0m\n\u001b[0;32m      9\u001b[0m \u001b[1;33m\u001b[0m\u001b[0m\n\u001b[0;32m     10\u001b[0m \u001b[1;31m# les widgets d'output\u001b[0m\u001b[1;33m\u001b[0m\u001b[1;33m\u001b[0m\u001b[1;33m\u001b[0m\u001b[0m\n\u001b[1;32m---> 11\u001b[1;33m \u001b[0mvbOuts\u001b[0m \u001b[1;33m=\u001b[0m \u001b[0mwidgets\u001b[0m\u001b[1;33m.\u001b[0m\u001b[0mVBox\u001b[0m\u001b[1;33m(\u001b[0m\u001b[1;33m[\u001b[0m\u001b[0mout1\u001b[0m\u001b[1;33m,\u001b[0m\u001b[0mout2\u001b[0m\u001b[1;33m]\u001b[0m\u001b[1;33m)\u001b[0m\u001b[1;33m\u001b[0m\u001b[1;33m\u001b[0m\u001b[0m\n\u001b[0m\u001b[0;32m     12\u001b[0m \u001b[1;33m\u001b[0m\u001b[0m\n\u001b[0;32m     13\u001b[0m \u001b[0mhbAllWidgets\u001b[0m \u001b[1;33m=\u001b[0m \u001b[0mwidgets\u001b[0m\u001b[1;33m.\u001b[0m\u001b[0mVBox\u001b[0m\u001b[1;33m(\u001b[0m\u001b[1;33m[\u001b[0m\u001b[0mvbFiltres\u001b[0m\u001b[1;33m,\u001b[0m\u001b[0mvbOuts\u001b[0m\u001b[1;33m]\u001b[0m\u001b[1;33m)\u001b[0m\u001b[1;33m\u001b[0m\u001b[1;33m\u001b[0m\u001b[0m\n",
      "\u001b[1;31mNameError\u001b[0m: name 'out1' is not defined"
     ]
    }
   ],
   "source": [
    "# definition du widget permettant de taper un texte \n",
    "textTarget = widgets.Text(\n",
    "       value=\"abacus\",\n",
    "       description='filtre hwd',\n",
    "       layout={'width': '300px'} )\n",
    "\n",
    "# les widgets de filtre input\n",
    "vbFiltres = widgets.HBox([textTarget, button])\n",
    "\n",
    "# les widgets d'output\n",
    "vbOuts = widgets.VBox([out1,out2])\n",
    "\n",
    "hbAllWidgets = widgets.VBox([vbFiltres,vbOuts])\n",
    "display(hbAllWidgets)\n",
    "\n",
    "\n",
    "\n",
    "word = textTarget.value\n",
    "urlTarget = f\"https://www.linguee.fr/anglais-francais/traduction/{word}.html\""
   ]
  },
  {
   "cell_type": "code",
   "execution_count": 17,
   "metadata": {},
   "outputs": [
    {
     "data": {
      "text/plain": [
       "'https://www.linguee.fr/anglais-francais/traduction/love.html'"
      ]
     },
     "execution_count": 17,
     "metadata": {},
     "output_type": "execute_result"
    }
   ],
   "source": [
    "urlTarget"
   ]
  },
  {
   "cell_type": "code",
   "execution_count": 67,
   "metadata": {},
   "outputs": [
    {
     "data": {
      "text/html": [
       "<div>\n",
       "<style scoped>\n",
       "    .dataframe tbody tr th:only-of-type {\n",
       "        vertical-align: middle;\n",
       "    }\n",
       "\n",
       "    .dataframe tbody tr th {\n",
       "        vertical-align: top;\n",
       "    }\n",
       "\n",
       "    .dataframe thead th {\n",
       "        text-align: right;\n",
       "    }\n",
       "</style>\n",
       "<table border=\"1\" class=\"dataframe\">\n",
       "  <thead>\n",
       "    <tr style=\"text-align: right;\">\n",
       "      <th></th>\n",
       "      <th>nbSyll</th>\n",
       "      <th>pron</th>\n",
       "      <th>origin</th>\n",
       "      <th>warning</th>\n",
       "      <th>remarques</th>\n",
       "      <th>POS</th>\n",
       "      <th>lineId</th>\n",
       "      <th>pageId</th>\n",
       "      <th>motVedette</th>\n",
       "    </tr>\n",
       "  </thead>\n",
       "  <tbody>\n",
       "    <tr>\n",
       "      <td>0</td>\n",
       "      <td>3</td>\n",
       "      <td>aʹbăcus</td>\n",
       "      <td>NaN</td>\n",
       "      <td>NaN</td>\n",
       "      <td>NaN</td>\n",
       "      <td>n.</td>\n",
       "      <td>2.0</td>\n",
       "      <td>19</td>\n",
       "      <td>abacus</td>\n",
       "    </tr>\n",
       "    <tr>\n",
       "      <td>1</td>\n",
       "      <td>2</td>\n",
       "      <td>ăbăʹft</td>\n",
       "      <td>NaN</td>\n",
       "      <td>NaN</td>\n",
       "      <td>NaN</td>\n",
       "      <td>p.</td>\n",
       "      <td>3.0</td>\n",
       "      <td>19</td>\n",
       "      <td>abaft</td>\n",
       "    </tr>\n",
       "    <tr>\n",
       "      <td>2</td>\n",
       "      <td>3</td>\n",
       "      <td>ăbaiʹſănce</td>\n",
       "      <td>F.</td>\n",
       "      <td>NaN</td>\n",
       "      <td>NaN</td>\n",
       "      <td>n.</td>\n",
       "      <td>4.0</td>\n",
       "      <td>19</td>\n",
       "      <td>abaisance</td>\n",
       "    </tr>\n",
       "    <tr>\n",
       "      <td>3</td>\n",
       "      <td>3</td>\n",
       "      <td>ābăʹndon</td>\n",
       "      <td>F.</td>\n",
       "      <td>NaN</td>\n",
       "      <td>NaN</td>\n",
       "      <td>v.</td>\n",
       "      <td>5.0</td>\n",
       "      <td>19</td>\n",
       "      <td>abandon</td>\n",
       "    </tr>\n",
       "    <tr>\n",
       "      <td>4</td>\n",
       "      <td>4</td>\n",
       "      <td>ābăʹndŏned</td>\n",
       "      <td>NaN</td>\n",
       "      <td>NaN</td>\n",
       "      <td>NaN</td>\n",
       "      <td>a.</td>\n",
       "      <td>6.0</td>\n",
       "      <td>19</td>\n",
       "      <td>abandoned</td>\n",
       "    </tr>\n",
       "    <tr>\n",
       "      <td>...</td>\n",
       "      <td>...</td>\n",
       "      <td>...</td>\n",
       "      <td>...</td>\n",
       "      <td>...</td>\n",
       "      <td>...</td>\n",
       "      <td>...</td>\n",
       "      <td>...</td>\n",
       "      <td>...</td>\n",
       "      <td>...</td>\n",
       "    </tr>\n",
       "    <tr>\n",
       "      <td>95</td>\n",
       "      <td>4</td>\n",
       "      <td>ăccȯu̇ʹtrements</td>\n",
       "      <td>F.</td>\n",
       "      <td>NaN</td>\n",
       "      <td>NaN</td>\n",
       "      <td>n.</td>\n",
       "      <td>61.0</td>\n",
       "      <td>20</td>\n",
       "      <td>accouotrements</td>\n",
       "    </tr>\n",
       "    <tr>\n",
       "      <td>96</td>\n",
       "      <td>2</td>\n",
       "      <td>ăccreʹw</td>\n",
       "      <td>F.</td>\n",
       "      <td>NaN</td>\n",
       "      <td>NaN</td>\n",
       "      <td>v.</td>\n",
       "      <td>62.0</td>\n",
       "      <td>20</td>\n",
       "      <td>accrew</td>\n",
       "    </tr>\n",
       "    <tr>\n",
       "      <td>97</td>\n",
       "      <td>4</td>\n",
       "      <td>ăccuʹmūlăte</td>\n",
       "      <td>L.</td>\n",
       "      <td>NaN</td>\n",
       "      <td>NaN</td>\n",
       "      <td>v.</td>\n",
       "      <td>63.0</td>\n",
       "      <td>20</td>\n",
       "      <td>accumulate</td>\n",
       "    </tr>\n",
       "    <tr>\n",
       "      <td>98</td>\n",
       "      <td>4</td>\n",
       "      <td>ăʹccūracy</td>\n",
       "      <td>L.</td>\n",
       "      <td>NaN</td>\n",
       "      <td>NaN</td>\n",
       "      <td>n.</td>\n",
       "      <td>64.0</td>\n",
       "      <td>20</td>\n",
       "      <td>accuracy</td>\n",
       "    </tr>\n",
       "    <tr>\n",
       "      <td>99</td>\n",
       "      <td>3</td>\n",
       "      <td>ăccŭʹrſed</td>\n",
       "      <td>NaN</td>\n",
       "      <td>NaN</td>\n",
       "      <td>NaN</td>\n",
       "      <td>a.</td>\n",
       "      <td>65.0</td>\n",
       "      <td>20</td>\n",
       "      <td>accursed</td>\n",
       "    </tr>\n",
       "  </tbody>\n",
       "</table>\n",
       "<p>100 rows × 9 columns</p>\n",
       "</div>"
      ],
      "text/plain": [
       "    nbSyll             pron origin warning  remarques POS  lineId  pageId  \\\n",
       "0        3          aʹbăcus    NaN     NaN        NaN  n.     2.0      19   \n",
       "1        2           ăbăʹft    NaN     NaN        NaN  p.     3.0      19   \n",
       "2        3       ăbaiʹſănce     F.     NaN        NaN  n.     4.0      19   \n",
       "3        3         ābăʹndon     F.     NaN        NaN  v.     5.0      19   \n",
       "4        4       ābăʹndŏned    NaN     NaN        NaN  a.     6.0      19   \n",
       "..     ...              ...    ...     ...        ...  ..     ...     ...   \n",
       "95       4  ăccȯu̇ʹtrements     F.     NaN        NaN  n.    61.0      20   \n",
       "96       2          ăccreʹw     F.     NaN        NaN  v.    62.0      20   \n",
       "97       4      ăccuʹmūlăte     L.     NaN        NaN  v.    63.0      20   \n",
       "98       4        ăʹccūracy     L.     NaN        NaN  n.    64.0      20   \n",
       "99       3        ăccŭʹrſed    NaN     NaN        NaN  a.    65.0      20   \n",
       "\n",
       "        motVedette  \n",
       "0           abacus  \n",
       "1            abaft  \n",
       "2        abaisance  \n",
       "3          abandon  \n",
       "4        abandoned  \n",
       "..             ...  \n",
       "95  accouotrements  \n",
       "96          accrew  \n",
       "97      accumulate  \n",
       "98        accuracy  \n",
       "99        accursed  \n",
       "\n",
       "[100 rows x 9 columns]"
      ]
     },
     "execution_count": 67,
     "metadata": {},
     "output_type": "execute_result"
    }
   ],
   "source": [
    "df"
   ]
  },
  {
   "cell_type": "code",
   "execution_count": 38,
   "metadata": {},
   "outputs": [],
   "source": [
    "dict_word = {'abacus': pd.DataFrame([1,2]), 'accrew': pd.DataFrame([2,1])}"
   ]
  },
  {
   "cell_type": "code",
   "execution_count": 39,
   "metadata": {},
   "outputs": [
    {
     "name": "stdout",
     "output_type": "stream",
     "text": [
      "   0\n",
      "0  1\n",
      "1  2\n",
      "   0\n",
      "0  2\n",
      "1  1\n"
     ]
    }
   ],
   "source": [
    "for k,v in dict_word.items():\n",
    "    print(v)"
   ]
  },
  {
   "cell_type": "code",
   "execution_count": null,
   "metadata": {},
   "outputs": [],
   "source": []
  }
 ],
 "metadata": {
  "kernelspec": {
   "display_name": "Python 3",
   "language": "python",
   "name": "python3"
  },
  "language_info": {
   "codemirror_mode": {
    "name": "ipython",
    "version": 3
   },
   "file_extension": ".py",
   "mimetype": "text/x-python",
   "name": "python",
   "nbconvert_exporter": "python",
   "pygments_lexer": "ipython3",
   "version": "3.7.4"
  }
 },
 "nbformat": 4,
 "nbformat_minor": 4
}
