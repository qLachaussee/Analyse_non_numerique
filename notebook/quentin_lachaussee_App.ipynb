{
 "cells": [
  {
   "cell_type": "markdown",
   "metadata": {},
   "source": [
    "# DicoCo\n",
    "\n",
    "*Quentin LACHAUSSEE*"
   ]
  },
  {
   "cell_type": "code",
   "execution_count": 2,
   "metadata": {},
   "outputs": [],
   "source": [
    "import pandas as pd\n",
    "import requests\n",
    "import pandas as pd\n",
    "import re\n",
    "from datetime import datetime\n",
    "from pathlib import Path\n",
    "import ipywidgets as widgets\n",
    "from IPython.display import display, clear_output, HTML, Markdown \n",
    "import requests\n",
    "from bs4 import BeautifulSoup\n",
    "import numpy as np\n",
    "import matplotlib.pyplot as plt\n",
    "from requests_html import HTMLSession"
   ]
  },
  {
   "cell_type": "code",
   "execution_count": 3,
   "metadata": {
    "scrolled": false
   },
   "outputs": [
    {
     "data": {
      "application/vnd.jupyter.widget-view+json": {
       "model_id": "51009a8945c74317b8f4de7203327aef",
       "version_major": 2,
       "version_minor": 0
      },
      "text/plain": [
       "VBox(children=(HBox(children=(Text(value='^a', description='filtre hwd', placeholder='.*'), Text(value='', des…"
      ]
     },
     "metadata": {},
     "output_type": "display_data"
    }
   ],
   "source": [
    "# on va lire notre dictionnaire enrichie dans \"quentin_lachaussee_manipDataframe\"\n",
    "chemin_Buchanan_riche = \"./../data/dataframe/BuchananRich.csv\"\n",
    "df_Buchanan_riche = pd.read_csv(chemin_Buchanan_riche, sep=\";\")\n",
    "\n",
    "# on crée les 3 filtres\n",
    "filter_hwd = widgets.Text(placeholder='.*',value='^a',description=\"filtre hwd\")\n",
    "filter_ipa = widgets.Text(placeholder='.*',value='',description=\"filtre ipa\")\n",
    "filter_occ = widgets.IntSlider(value=3, min=1, max=10, step=1, description='occ. Max:')\n",
    "\n",
    "# on instancie l'affichage de sortie\n",
    "out = widgets.Output()\n",
    "\n",
    "# on défini la fonction de filtre du DataFrame en fonction des valeurs des filtres\n",
    "def filter_df(df, str_hwd, str_ipa, int_occ):    \n",
    "    return df[(df['motVedette'].str.contains(str_hwd, na=False,flags=re.IGNORECASE, regex=True)) &\n",
    "              (df['pronIpa'].str.contains(str_ipa, na=False,flags=re.IGNORECASE, regex=True))].head(int_occ).reset_index(drop=True)\n",
    "\n",
    "# on défini la fonction qui va s'executer lorsque l'utilisateur clique sur le bouton de Collecte\n",
    "def on_button_clicked(_):\n",
    "    with out:\n",
    "        \n",
    "        # on re initialise l'affichage\n",
    "        clear_output()\n",
    "        \n",
    "        # on va chercher les valeurs filtres\n",
    "        str_hwd = filter_hwd.value\n",
    "        str_ipa = filter_ipa.value\n",
    "        int_occ = int(filter_occ.value)\n",
    "        \n",
    "        # si il n'y en a pas, on fait en sorte de n'appliquer aucun filtre\n",
    "        if str_hwd==\"\":\n",
    "            str_hwd = \".*\"\n",
    "        else:\n",
    "            pass\n",
    "        if str_ipa==\"\":\n",
    "            str_ipa = \".*\"\n",
    "        else:\n",
    "            pass\n",
    "\n",
    "        # on filtre notre dictionnaire\n",
    "        df_filtered = filter_df(df_Buchanan_riche, str_hwd, str_ipa, int_occ)\n",
    "        \n",
    "        # on crée un tableau en HTML\n",
    "        tableau_label = '<table><tr><th style=\"border: 1px solid black; text-align: center;\">motVedette</th>\\\n",
    "                                    <th style=\"border: 1px solid black; text-align: center;\">nbSyll</th>\\\n",
    "                                    <th style=\"border: 1px solid black; text-align: center;\">pronOrigin</th>\\\n",
    "                                    <th style=\"border: 1px solid black; text-align: center;\">pronSampa</th>\\\n",
    "                                    <th style=\"border: 1px solid black; text-align: center;\">pronPos</th>\\\n",
    "                                    <th style=\"border: 1px solid black; text-align: center;\">pronIpa</th>\\\n",
    "                                    <th style=\"border: 1px solid black; text-align: center;\">US</th>\\\n",
    "                                    <th style=\"border: 1px solid black; text-align: center;\">UK</th>\\\n",
    "                                </tr>'\n",
    "        \n",
    "        # pour chaque mot du dictionnaire filtré\n",
    "        for i in range(len(df_filtered)):\n",
    "            # on va requeter Linguee sur ses informations\n",
    "            word = df_filtered.motVedette[i]\n",
    "            url = f\"https://www.linguee.fr/anglais-francais/traduction/{word}.html\"\n",
    "            response = requests.get(url)\n",
    "            \n",
    "            # si on a dépassé le nombre de requête possible, on affiche une erreur\n",
    "            if response.status_code == 503:\n",
    "                print(\"Nombre de requête dépassé\")\n",
    "                break\n",
    "            \n",
    "            # on va chercher le body de la page\n",
    "            body = BeautifulSoup(response.text, 'html.parser').find('body')\n",
    "            # on va chercher le premier span qui contient les audios du mot\n",
    "            span = body.find('span',{\"class\":\"tag_lemma\"})\n",
    "            \n",
    "            # on va chercher les audios dans l'attribut \"onclick\"\n",
    "            audio_US = span.find('a',{\"class\":\"audio\"})['onclick'].split('\"')[1]\n",
    "            audio_UK = span.find('a',{\"class\":\"audio\"})['onclick'].split('\"')[5]\n",
    "            \n",
    "            # on rajoute le domaine aux audios\n",
    "            audio_US_url = f\"https://www.linguee.fr/mp3/{audio_US}.mp3\"\n",
    "            audio_UK_url = f\"https://www.linguee.fr/mp3/{audio_UK}.mp3\"\n",
    "\n",
    "            # on alimente le tableau avec les caractéristique du mot\n",
    "            tableau_label += '<tr><td style=\"border: 1px solid black; text-align: center;\"><a href='+url+' target=\"_blank\" >'+word+'</a></td>\\\n",
    "                                  <td style=\"border: 1px solid black; text-align: center;\">'+str(df_filtered.nbSyll[i])+'</td>\\\n",
    "                                  <td style=\"border: 1px solid black; text-align: center;\">'+df_filtered.pron[i]+'</td>\\\n",
    "                                  <td style=\"border: 1px solid black; text-align: center;\">'+df_filtered.pronSampa[i]+'</td>\\\n",
    "                                  <td style=\"border: 1px solid black; text-align: center;\">'+df_filtered.pronPos[i]+'</td>\\\n",
    "                                  <td style=\"border: 1px solid black; text-align: center;\">'+df_filtered.pronIpa[i]+'</td>\\\n",
    "                                  <td style=\"border: 1px solid black;\"> <audio controls src=\"'+audio_US_url+'\"><code>audio</code></audio></td>\\\n",
    "                                  <td style=\"border: 1px solid black;\"> <audio controls src=\"'+audio_UK_url+'\"><code>audio</code></audio></td>\\\n",
    "                              </tr>'\n",
    "\n",
    "        # on ferme et affiche le tableau\n",
    "        tableau_label += '</table>'\n",
    "        tableau = HTML(tableau_label)\n",
    "        display(tableau)\n",
    "\n",
    "# on instancie le bouton de Collecte et la fonction qui s'active une fois actionné\n",
    "button = widgets.Button(description='Collecter')    \n",
    "button.on_click(on_button_clicked)\n",
    "\n",
    "# on place les 3 filtres sur 1 même première ligne\n",
    "input_filter = widgets.HBox([filter_hwd, filter_ipa, filter_occ, button])\n",
    "\n",
    "# on place l'affichage en dessous des filtres\n",
    "all_widget = widgets.VBox([input_filter, out])\n",
    "\n",
    "# on affiche les résultats\n",
    "display(all_widget)\n"
   ]
  }
 ],
 "metadata": {
  "kernelspec": {
   "display_name": "Python 3",
   "language": "python",
   "name": "python3"
  },
  "language_info": {
   "codemirror_mode": {
    "name": "ipython",
    "version": 3
   },
   "file_extension": ".py",
   "mimetype": "text/x-python",
   "name": "python",
   "nbconvert_exporter": "python",
   "pygments_lexer": "ipython3",
   "version": "3.7.4"
  }
 },
 "nbformat": 4,
 "nbformat_minor": 4
}
