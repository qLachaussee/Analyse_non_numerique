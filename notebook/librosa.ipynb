{
 "cells": [
  {
   "cell_type": "markdown",
   "metadata": {},
   "source": [
    "## Télécharger un fichier distant\n"
   ]
  },
  {
   "cell_type": "code",
   "execution_count": 2,
   "metadata": {},
   "outputs": [
    {
     "data": {
      "text/plain": [
       "6896"
      ]
     },
     "execution_count": 2,
     "metadata": {},
     "output_type": "execute_result"
    }
   ],
   "source": [
    "import requests\n",
    "\n",
    "url = 'https://www.linguee.fr/mp3/EN_UK/b5/b5c0b187fe309af0f4d35982fd961d7e-300.mp3'\n",
    "r = requests.get(url, allow_redirects=True)\n",
    "\n",
    "localPath = \"./../data/audio/dbg.mp3\"\n",
    "open(localPath, 'wb').write(r.content)"
   ]
  },
  {
   "cell_type": "markdown",
   "metadata": {},
   "source": [
    "## Afficher un player audio\n"
   ]
  },
  {
   "cell_type": "markdown",
   "metadata": {},
   "source": [
    "Fichier local"
   ]
  },
  {
   "cell_type": "code",
   "execution_count": 3,
   "metadata": {},
   "outputs": [
    {
     "data": {
      "text/html": [
       "\n",
       "                <audio  controls=\"controls\" >\n",
       "                    <source src=\"data:audio/mpeg;base64,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\" type=\"audio/mpeg\" />\n",
       "                    Your browser does not support the audio element.\n",
       "                </audio>\n",
       "              "
      ],
      "text/plain": [
       "<IPython.lib.display.Audio object>"
      ]
     },
     "execution_count": 3,
     "metadata": {},
     "output_type": "execute_result"
    }
   ],
   "source": [
    "from IPython import display\n",
    "d1 = display.Audio(filename=localPath)\n",
    "d1"
   ]
  },
  {
   "cell_type": "markdown",
   "metadata": {},
   "source": [
    "Fichier distant"
   ]
  },
  {
   "cell_type": "code",
   "execution_count": 17,
   "metadata": {},
   "outputs": [
    {
     "data": {
      "text/html": [
       "\n",
       "                <audio  controls=\"controls\" >\n",
       "                    <source src=\"https://www.linguee.fr/mp3/EN_US/b5/b5c0b187fe309af0f4d35982fd961d7e-300.mp3\" type=\"audio/mpeg\" />\n",
       "                    Your browser does not support the audio element.\n",
       "                </audio>\n",
       "              "
      ],
      "text/plain": [
       "<IPython.lib.display.Audio object>"
      ]
     },
     "execution_count": 17,
     "metadata": {},
     "output_type": "execute_result"
    }
   ],
   "source": [
    "audio_url = \"https://www.linguee.fr/mp3/EN_US/b5/b5c0b187fe309af0f4d35982fd961d7e-300.mp3\"\n",
    "# audio_url = \"https://phoneky.co.uk/content/mp3tones/tone/2020/tv-movie/cr7siuuuhhh_2fc6a3915107947.mp3\"\n",
    "d2 = display.Audio(url=audio_url)\n",
    "d2"
   ]
  },
  {
   "cell_type": "markdown",
   "metadata": {},
   "source": [
    "## afficher plusieurs widgets"
   ]
  },
  {
   "cell_type": "code",
   "execution_count": 18,
   "metadata": {},
   "outputs": [],
   "source": [
    "import ipywidgets as widgets"
   ]
  },
  {
   "cell_type": "code",
   "execution_count": 19,
   "metadata": {},
   "outputs": [
    {
     "data": {
      "application/vnd.jupyter.widget-view+json": {
       "model_id": "1c66f7a5a3d64c78b4a3904f6850f438",
       "version_major": 2,
       "version_minor": 0
      },
      "text/plain": [
       "HBox(children=(Output(), Output(), Output()))"
      ]
     },
     "metadata": {},
     "output_type": "display_data"
    }
   ],
   "source": [
    "audio_widgets = []\n",
    "\n",
    "listUrl = []\n",
    "\n",
    "listUrl.append(\"https://www.linguee.fr/mp3/EN_UK/b5/b5c0b187fe309af0f4d35982fd961d7e-300.mp3\")\n",
    "listUrl.append(\"https://www.ldoceonline.com/media/english/ameProns/love1.mp3\")\n",
    "listUrl.append(\"https://dictionary.cambridge.org/media/english/us_pron/l/lov/love_/love.mp3\")\n",
    "\n",
    "for urlCur in listUrl:\n",
    "    out = widgets.Output()\n",
    "    with out:\n",
    "        \n",
    "        display.display(display.Audio(url=urlCur))\n",
    "\n",
    "\n",
    "    audio_widgets.append(out)\n",
    "\n",
    "\n",
    "widgets.HBox(audio_widgets)"
   ]
  },
  {
   "cell_type": "markdown",
   "metadata": {},
   "source": [
    "## Librosa"
   ]
  },
  {
   "cell_type": "markdown",
   "metadata": {},
   "source": [
    "Pour utiliser que librosa puisse lire des mp3 il lui faut par exemple ffmpeg.\n",
    "\n",
    "Sur sa machine windows, le plus simple est de télécharger un build :https://www.gyan.dev/ffmpeg/builds/\n"
   ]
  },
  {
   "cell_type": "code",
   "execution_count": 6,
   "metadata": {},
   "outputs": [],
   "source": [
    "# et d'ajouter le path\n",
    "!set PATH=\"C:\\Users\\mnauge\\Documents\\Work\\myTools\\ffmpeg_full_build\\bin\""
   ]
  },
  {
   "cell_type": "markdown",
   "metadata": {},
   "source": [
    "Sur une machine distante linux, il est possible d'utiliser le code suivant :\n"
   ]
  },
  {
   "cell_type": "code",
   "execution_count": 7,
   "metadata": {},
   "outputs": [
    {
     "data": {
      "text/plain": [
       "\"\\nexist = !which ffmpeg\\nif not exist:\\n  !curl https://johnvansickle.com/ffmpeg/releases/ffmpeg-release-amd64-static.tar.xz -o ffmpeg.tar.xz      && tar -xf ffmpeg.tar.xz && rm ffmpeg.tar.xz\\n  ffmdir = !find . -iname ffmpeg-*-static\\n  path = %env PATH\\n  path = path + ':' + ffmdir[0]\\n  %env PATH $path\\n\\n!which ffmpeg\\n\""
      ]
     },
     "execution_count": 7,
     "metadata": {},
     "output_type": "execute_result"
    }
   ],
   "source": [
    "# Download latest FFmpeg static build.  \n",
    "\"\"\"\n",
    "exist = !which ffmpeg\n",
    "if not exist:\n",
    "  !curl https://johnvansickle.com/ffmpeg/releases/ffmpeg-release-amd64-static.tar.xz -o ffmpeg.tar.xz \\\n",
    "     && tar -xf ffmpeg.tar.xz && rm ffmpeg.tar.xz\n",
    "  ffmdir = !find . -iname ffmpeg-*-static\n",
    "  path = %env PATH\n",
    "  path = path + ':' + ffmdir[0]\n",
    "  %env PATH $path\n",
    "\n",
    "!which ffmpeg\n",
    "\"\"\""
   ]
  },
  {
   "cell_type": "code",
   "execution_count": 10,
   "metadata": {},
   "outputs": [],
   "source": [
    "import numpy as np\n",
    "import matplotlib.pyplot as plt\n",
    "\n",
    "import librosa\n",
    "import librosa.display"
   ]
  },
  {
   "cell_type": "code",
   "execution_count": 13,
   "metadata": {},
   "outputs": [],
   "source": [
    "pathHobo = \"./../data/audio/longman_hobo.wav\"\n",
    "y, sr = librosa.load(pathHobo)"
   ]
  },
  {
   "cell_type": "code",
   "execution_count": 14,
   "metadata": {},
   "outputs": [],
   "source": [
    "D = librosa.stft(y)  # STFT of y\n",
    "S_db = librosa.amplitude_to_db(np.abs(D), ref=np.max)"
   ]
  },
  {
   "cell_type": "code",
   "execution_count": 15,
   "metadata": {},
   "outputs": [
    {
     "data": {
      "text/plain": [
       "<matplotlib.colorbar.Colorbar at 0x1490bc17408>"
      ]
     },
     "execution_count": 15,
     "metadata": {},
     "output_type": "execute_result"
    },
    {
     "data": {
      "image/png": "[encoded data removed]",
      "text/plain": [
       "<Figure size 432x288 with 2 Axes>"
      ]
     },
     "metadata": {
      "needs_background": "light"
     },
     "output_type": "display_data"
    }
   ],
   "source": [
    "#%matplotlib ipympl\n",
    "fig, ax = plt.subplots()\n",
    "img = librosa.display.specshow(S_db, x_axis='time', y_axis='linear', ax=ax)\n",
    "ax.set(title='Now with labeled axes!')\n",
    "fig.colorbar(img, ax=ax, format=\"%+2.f dB\")"
   ]
  },
  {
   "cell_type": "code",
   "execution_count": 16,
   "metadata": {},
   "outputs": [
    {
     "data": {
      "text/plain": [
       "<librosa.display.AdaptiveWaveplot at 0x1490ced73c8>"
      ]
     },
     "execution_count": 16,
     "metadata": {},
     "output_type": "execute_result"
    },
    {
     "data": {
      "image/png": "[encoded data removed]",
      "text/plain": [
       "<Figure size 432x288 with 1 Axes>"
      ]
     },
     "metadata": {
      "needs_background": "light"
     },
     "output_type": "display_data"
    }
   ],
   "source": [
    "#%matplotlib ipympl\n",
    "fig, ax = plt.subplots()\n",
    "librosa.display.waveshow(y, sr=sr, ax=ax)"
   ]
  },
  {
   "cell_type": "code",
   "execution_count": null,
   "metadata": {},
   "outputs": [],
   "source": []
  },
  {
   "cell_type": "code",
   "execution_count": null,
   "metadata": {},
   "outputs": [],
   "source": []
  }
 ],
 "metadata": {
  "kernelspec": {
   "display_name": "Python 3",
   "language": "python",
   "name": "python3"
  },
  "language_info": {
   "codemirror_mode": {
    "name": "ipython",
    "version": 3
   },
   "file_extension": ".py",
   "mimetype": "text/x-python",
   "name": "python",
   "nbconvert_exporter": "python",
   "pygments_lexer": "ipython3",
   "version": "3.7.4"
  }
 },
 "nbformat": 4,
 "nbformat_minor": 4
}
