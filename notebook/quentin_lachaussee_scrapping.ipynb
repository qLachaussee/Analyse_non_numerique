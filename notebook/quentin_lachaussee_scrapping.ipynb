{
 "cells": [
  {
   "cell_type": "markdown",
   "metadata": {},
   "source": [
    "## 0.0. Import des librairies"
   ]
  },
  {
   "cell_type": "code",
   "execution_count": 1,
   "metadata": {},
   "outputs": [],
   "source": [
    "import pandas as pd\n",
    "import requests\n",
    "from requests_html import HTMLSession\n",
    "from bs4 import BeautifulSoup\n",
    "import ipywidgets as widgets\n",
    "from IPython import display"
   ]
  },
  {
   "cell_type": "markdown",
   "metadata": {},
   "source": [
    "## 0.1. Mot à rechercher"
   ]
  },
  {
   "cell_type": "code",
   "execution_count": 2,
   "metadata": {},
   "outputs": [
    {
     "name": "stdout",
     "output_type": "stream",
     "text": [
      "Quel mot rechercher ? love\n"
     ]
    }
   ],
   "source": [
    "word = input(\"Quel mot rechercher ? \")"
   ]
  },
  {
   "cell_type": "markdown",
   "metadata": {},
   "source": [
    "## 1.1. Requeter Linguee"
   ]
  },
  {
   "cell_type": "code",
   "execution_count": 3,
   "metadata": {
    "scrolled": true
   },
   "outputs": [],
   "source": [
    "urlTarget = f\"https://www.linguee.fr/anglais-francais/traduction/{word}.html\"\n",
    "response = requests.get(urlTarget)\n",
    "love = BeautifulSoup(response.text, 'html.parser')\n",
    "body = BeautifulSoup(response.text, 'html.parser').find('body')"
   ]
  },
  {
   "cell_type": "markdown",
   "metadata": {},
   "source": [
    "## 1.2. Extraire les audio US et UK du mot"
   ]
  },
  {
   "cell_type": "code",
   "execution_count": 4,
   "metadata": {},
   "outputs": [
    {
     "name": "stdout",
     "output_type": "stream",
     "text": [
      "Mot : Love \n",
      "POS : adjectif\n",
      "Prononciation US : https://www.linguee.fr/mp3/EN_US/b5/b5c0b187fe309af0f4d35982fd961d7e-300.mp3\n"
     ]
    },
    {
     "data": {
      "text/html": [
       "\n",
       "                <audio  controls=\"controls\" >\n",
       "                    <source src=\"https://www.linguee.fr/mp3/EN_US/b5/b5c0b187fe309af0f4d35982fd961d7e-300.mp3\" type=\"audio/mpeg\" />\n",
       "                    Your browser does not support the audio element.\n",
       "                </audio>\n",
       "              "
      ],
      "text/plain": [
       "<IPython.lib.display.Audio object>"
      ]
     },
     "metadata": {},
     "output_type": "display_data"
    },
    {
     "name": "stdout",
     "output_type": "stream",
     "text": [
      "Prononciation UK : https://www.linguee.fr/mp3/EN_UK/b5/b5c0b187fe309af0f4d35982fd961d7e-300.mp3\n"
     ]
    },
    {
     "data": {
      "text/html": [
       "\n",
       "                <audio  controls=\"controls\" >\n",
       "                    <source src=\"https://www.linguee.fr/mp3/EN_UK/b5/b5c0b187fe309af0f4d35982fd961d7e-300.mp3\" type=\"audio/mpeg\" />\n",
       "                    Your browser does not support the audio element.\n",
       "                </audio>\n",
       "              "
      ],
      "text/plain": [
       "<IPython.lib.display.Audio object>"
      ]
     },
     "metadata": {},
     "output_type": "display_data"
    }
   ],
   "source": [
    "span = body.find('span',{\"class\":\"tag_lemma\"})\n",
    "pos = span.findAll('span',{\"class\":\"tag_wordtype\"})[0].text\n",
    "audio_US = span.find('a',{\"class\":\"audio\"})['onclick'].split('\"')[1]\n",
    "audio_UK = span.find('a',{\"class\":\"audio\"})['onclick'].split('\"')[5]\n",
    "audio_US_url = f\"https://www.linguee.fr/mp3/{audio_US}.mp3\"\n",
    "audio_UK_url = f\"https://www.linguee.fr/mp3/{audio_UK}.mp3\"\n",
    "\n",
    "print(\"Mot :\", word.capitalize(), \"\\nPOS :\", pos)\n",
    "print(\"Prononciation US :\", audio_US_url)\n",
    "display.display(display.Audio(url=audio_US_url))\n",
    "print(\"Prononciation UK :\", audio_UK_url)\n",
    "display.display(display.Audio(url=audio_UK_url))"
   ]
  },
  {
   "cell_type": "markdown",
   "metadata": {},
   "source": [
    "## 1.3. Extraire les audio US et UK de tous les POS du mot"
   ]
  },
  {
   "cell_type": "code",
   "execution_count": 5,
   "metadata": {},
   "outputs": [
    {
     "data": {
      "text/html": [
       "<div>\n",
       "<style scoped>\n",
       "    .dataframe tbody tr th:only-of-type {\n",
       "        vertical-align: middle;\n",
       "    }\n",
       "\n",
       "    .dataframe tbody tr th {\n",
       "        vertical-align: top;\n",
       "    }\n",
       "\n",
       "    .dataframe thead th {\n",
       "        text-align: right;\n",
       "    }\n",
       "</style>\n",
       "<table border=\"1\" class=\"dataframe\">\n",
       "  <thead>\n",
       "    <tr style=\"text-align: right;\">\n",
       "      <th></th>\n",
       "      <th>Mot</th>\n",
       "      <th>IPA</th>\n",
       "      <th>POS</th>\n",
       "      <th>Link_US</th>\n",
       "      <th>Link_UK</th>\n",
       "    </tr>\n",
       "  </thead>\n",
       "  <tbody>\n",
       "    <tr>\n",
       "      <th>0</th>\n",
       "      <td>love</td>\n",
       "      <td></td>\n",
       "      <td>adjectif</td>\n",
       "      <td>https://www.linguee.fr/mp3/EN_US/b5/b5c0b187fe...</td>\n",
       "      <td>https://www.linguee.fr/mp3/EN_UK/b5/b5c0b187fe...</td>\n",
       "    </tr>\n",
       "    <tr>\n",
       "      <th>1</th>\n",
       "      <td>love</td>\n",
       "      <td></td>\n",
       "      <td>nom</td>\n",
       "      <td>https://www.linguee.fr/mp3/EN_US/b5/b5c0b187fe...</td>\n",
       "      <td>https://www.linguee.fr/mp3/EN_UK/b5/b5c0b187fe...</td>\n",
       "    </tr>\n",
       "    <tr>\n",
       "      <th>2</th>\n",
       "      <td>love sb./sth.</td>\n",
       "      <td></td>\n",
       "      <td>verbe</td>\n",
       "      <td>https://www.linguee.fr/mp3/EN_US/b5/b5c0b187fe...</td>\n",
       "      <td>https://www.linguee.fr/mp3/EN_UK/b5/b5c0b187fe...</td>\n",
       "    </tr>\n",
       "  </tbody>\n",
       "</table>\n",
       "</div>"
      ],
      "text/plain": [
       "             Mot IPA       POS  \\\n",
       "0           love      adjectif   \n",
       "1           love           nom   \n",
       "2  love sb./sth.         verbe   \n",
       "\n",
       "                                             Link_US  \\\n",
       "0  https://www.linguee.fr/mp3/EN_US/b5/b5c0b187fe...   \n",
       "1  https://www.linguee.fr/mp3/EN_US/b5/b5c0b187fe...   \n",
       "2  https://www.linguee.fr/mp3/EN_US/b5/b5c0b187fe...   \n",
       "\n",
       "                                             Link_UK  \n",
       "0  https://www.linguee.fr/mp3/EN_UK/b5/b5c0b187fe...  \n",
       "1  https://www.linguee.fr/mp3/EN_UK/b5/b5c0b187fe...  \n",
       "2  https://www.linguee.fr/mp3/EN_UK/b5/b5c0b187fe...  "
      ]
     },
     "execution_count": 5,
     "metadata": {},
     "output_type": "execute_result"
    }
   ],
   "source": [
    "span = body.findAll('span',{\"class\":\"tag_lemma\"})\n",
    "df = pd.DataFrame(columns=[\"Mot\", \"IPA\", \"POS\", \"Link_US\", \"Link_UK\",])\n",
    "for i,v in enumerate(span):\n",
    "    name = v.findAll('a',{\"class\":\"dictLink\"})\n",
    "    # l'IPA n'est pas mentionné dans Linguee\n",
    "    ipa = \"\"\n",
    "    link = v.findAll('a',{\"class\":\"audio\"})\n",
    "    pos = v.findAll('span',{\"class\":\"tag_wordtype\"})\n",
    "    if len(pos)>0:\n",
    "        for l in link:\n",
    "            audio_US = l['onclick'].split('\"')[1]\n",
    "            audio_UK = l['onclick'].split('\"')[5]\n",
    "            audio_US_url = f\"https://www.linguee.fr/mp3/{audio_US}.mp3\"\n",
    "            audio_UK_url = f\"https://www.linguee.fr/mp3/{audio_UK}.mp3\"\n",
    "            df.loc[i] = [name[0].text, ipa, pos[0].text, audio_US_url, audio_UK_url]\n",
    "df"
   ]
  },
  {
   "cell_type": "code",
   "execution_count": 6,
   "metadata": {},
   "outputs": [
    {
     "name": "stdout",
     "output_type": "stream",
     "text": [
      "Mot : Love\n"
     ]
    },
    {
     "data": {
      "application/vnd.jupyter.widget-view+json": {
       "model_id": "ef00249ca277485f8a4918ab4ced143c",
       "version_major": 2,
       "version_minor": 0
      },
      "text/plain": [
       "Output()"
      ]
     },
     "metadata": {},
     "output_type": "display_data"
    }
   ],
   "source": [
    "print(\"Mot :\", df.Mot[0].capitalize())\n",
    "\n",
    "out = widgets.Output()\n",
    "with out:\n",
    "    tableau_label = '<table><tr><th style=\"text-align:center\">IPA</th>\\\n",
    "                                <th style=\"text-align:center\">POS</th>\\\n",
    "                                <th style=\"text-align:center\">Audio US</th>\\\n",
    "                                <th style=\"text-align:center\">Audio UK</th>\\\n",
    "                                </tr>'\n",
    "    for i in range(len(df)):\n",
    "        \n",
    "        \n",
    "        tableau_label += '<tr><td>'+df.IPA[i]+'</td>\\\n",
    "                            <td>'+df.POS[i]+'</td>\\\n",
    "                              <td> <audio controls src=\"'+df.Link_US[i]+'\"><code>audio</code></audio></td>\\\n",
    "                              <td> <audio controls src=\"'+df.Link_UK[i]+'\"><code>audio</code></audio></td>\\\n",
    "                          </tr>'\n",
    "\n",
    "\n",
    "    tableau_label += '</table>'\n",
    "    tableau = display.HTML(tableau_label)\n",
    "    display.display(tableau)\n",
    "        \n",
    "\n",
    "display.display(out)\n"
   ]
  },
  {
   "cell_type": "markdown",
   "metadata": {},
   "source": [
    "## 2.1. Requeter Cambridge"
   ]
  },
  {
   "cell_type": "code",
   "execution_count": 7,
   "metadata": {
    "scrolled": true
   },
   "outputs": [],
   "source": [
    "session = HTMLSession()\n",
    "urlTarget = f\"https://dictionary.cambridge.org/dictionary/english/{word}\"\n",
    "response = session.get(urlTarget)\n",
    "love = BeautifulSoup(response.text, 'html.parser')\n",
    "body = BeautifulSoup(response.text, 'html.parser').find('body')"
   ]
  },
  {
   "cell_type": "markdown",
   "metadata": {},
   "source": [
    "## 2.2. Extraire l'IPA et les audio US et UK du mot"
   ]
  },
  {
   "cell_type": "code",
   "execution_count": 8,
   "metadata": {},
   "outputs": [
    {
     "name": "stdout",
     "output_type": "stream",
     "text": [
      "Mot : Love \n",
      "IPA : lʌv \n",
      "POS : verb\n",
      "Prononciation US : https://dictionary.cambridge.org/media/english/us_pron/l/lov/love_/love.mp3\n"
     ]
    },
    {
     "data": {
      "text/html": [
       "\n",
       "                <audio  controls=\"controls\" >\n",
       "                    <source src=\"https://dictionary.cambridge.org/media/english/us_pron/l/lov/love_/love.mp3\" type=\"audio/mpeg\" />\n",
       "                    Your browser does not support the audio element.\n",
       "                </audio>\n",
       "              "
      ],
      "text/plain": [
       "<IPython.lib.display.Audio object>"
      ]
     },
     "metadata": {},
     "output_type": "display_data"
    },
    {
     "name": "stdout",
     "output_type": "stream",
     "text": [
      "Prononciation UK : https://dictionary.cambridge.org/media/english/uk_pron/u/ukl/uklou/ukloudn014.mp3\n"
     ]
    },
    {
     "data": {
      "text/html": [
       "\n",
       "                <audio  controls=\"controls\" >\n",
       "                    <source src=\"https://dictionary.cambridge.org/media/english/uk_pron/u/ukl/uklou/ukloudn014.mp3\" type=\"audio/mpeg\" />\n",
       "                    Your browser does not support the audio element.\n",
       "                </audio>\n",
       "              "
      ],
      "text/plain": [
       "<IPython.lib.display.Audio object>"
      ]
     },
     "metadata": {},
     "output_type": "display_data"
    }
   ],
   "source": [
    "mots = body.find('div',{\"class\":\"pos-header dpos-h\"})\n",
    "pos = mots.findAll('div',{\"class\":\"posgram dpos-g hdib lmr-5\"})[0].text.split(\" \")[0]\n",
    "ipa = mots.findAll('span',{\"class\":\"pron dpron\"})[0].text.replace(\"/\", \"\")\n",
    "audio_UK = mots.findAll('span',{\"class\":\"uk dpron-i\"})[0].findAll('source')[0][\"src\"]\n",
    "audio_US = mots.findAll('span',{\"class\":\"us dpron-i\"})[0].findAll('source')[0][\"src\"]\n",
    "audio_US_url = f\"https://dictionary.cambridge.org{audio_US}\"\n",
    "audio_UK_url = f\"https://dictionary.cambridge.org{audio_UK}\"\n",
    "\n",
    "print(\"Mot :\", word.capitalize(), \"\\nIPA :\", ipa, \"\\nPOS :\", pos)\n",
    "print(\"Prononciation US :\", audio_US_url)\n",
    "display.display(display.Audio(url=audio_US_url))\n",
    "print(\"Prononciation UK :\", audio_UK_url)\n",
    "display.display(display.Audio(url=audio_UK_url))"
   ]
  },
  {
   "cell_type": "markdown",
   "metadata": {},
   "source": [
    "## 2.3. Extraire l'IPA et les audio US et UK de tous les POS du mot"
   ]
  },
  {
   "cell_type": "code",
   "execution_count": 9,
   "metadata": {},
   "outputs": [
    {
     "data": {
      "text/html": [
       "<div>\n",
       "<style scoped>\n",
       "    .dataframe tbody tr th:only-of-type {\n",
       "        vertical-align: middle;\n",
       "    }\n",
       "\n",
       "    .dataframe tbody tr th {\n",
       "        vertical-align: top;\n",
       "    }\n",
       "\n",
       "    .dataframe thead th {\n",
       "        text-align: right;\n",
       "    }\n",
       "</style>\n",
       "<table border=\"1\" class=\"dataframe\">\n",
       "  <thead>\n",
       "    <tr style=\"text-align: right;\">\n",
       "      <th></th>\n",
       "      <th>Mot</th>\n",
       "      <th>IPA</th>\n",
       "      <th>POS</th>\n",
       "      <th>Link_US</th>\n",
       "      <th>Link_UK</th>\n",
       "    </tr>\n",
       "  </thead>\n",
       "  <tbody>\n",
       "    <tr>\n",
       "      <th>0</th>\n",
       "      <td>love</td>\n",
       "      <td>lʌv</td>\n",
       "      <td>verb</td>\n",
       "      <td>https://dictionary.cambridge.org/media/english...</td>\n",
       "      <td>https://dictionary.cambridge.org/media/english...</td>\n",
       "    </tr>\n",
       "    <tr>\n",
       "      <th>1</th>\n",
       "      <td>love</td>\n",
       "      <td>lʌv</td>\n",
       "      <td>noun</td>\n",
       "      <td>https://dictionary.cambridge.org/media/english...</td>\n",
       "      <td>https://dictionary.cambridge.org/media/english...</td>\n",
       "    </tr>\n",
       "  </tbody>\n",
       "</table>\n",
       "</div>"
      ],
      "text/plain": [
       "    Mot  IPA   POS                                            Link_US  \\\n",
       "0  love  lʌv  verb  https://dictionary.cambridge.org/media/english...   \n",
       "1  love  lʌv  noun  https://dictionary.cambridge.org/media/english...   \n",
       "\n",
       "                                             Link_UK  \n",
       "0  https://dictionary.cambridge.org/media/english...  \n",
       "1  https://dictionary.cambridge.org/media/english...  "
      ]
     },
     "execution_count": 9,
     "metadata": {},
     "output_type": "execute_result"
    }
   ],
   "source": [
    "mots = body.findAll('div',{\"class\":\"pos-header dpos-h\"})\n",
    "df = pd.DataFrame(columns=[\"Mot\", \"IPA\", \"POS\", \"Link_US\", \"Link_UK\",])\n",
    "for i,m in enumerate(mots):\n",
    "    name = m.findAll('span',{\"class\":\"hw dhw\"})[0].text\n",
    "    ipa = m.findAll('span',{\"class\":\"pron dpron\"})[0].text.replace(\"/\", \"\")\n",
    "    div = m.findAll('div',{\"class\":\"posgram dpos-g hdib lmr-5\"})\n",
    "    for d in div:\n",
    "        pos = d.text.split(\" \")[0]\n",
    "        try:\n",
    "            audio_UK = m.findAll('span',{\"class\":\"uk dpron-i\"})[0].findAll('source')[0][\"src\"]\n",
    "            audio_US = m.findAll('span',{\"class\":\"us dpron-i\"})[0].findAll('source')[0][\"src\"]\n",
    "            audio_US_url = f\"https://dictionary.cambridge.org{audio_US}\"\n",
    "            audio_UK_url = f\"https://dictionary.cambridge.org{audio_UK}\"\n",
    "            df.loc[i] = [name, ipa, pos, audio_US_url, audio_UK_url]\n",
    "        except:\n",
    "            ok = 1\n",
    "df"
   ]
  },
  {
   "cell_type": "markdown",
   "metadata": {},
   "source": [
    "## 3.1. Requeter Longman"
   ]
  },
  {
   "cell_type": "code",
   "execution_count": 10,
   "metadata": {
    "scrolled": true
   },
   "outputs": [],
   "source": [
    "session = HTMLSession()\n",
    "urlTarget = f\"https://www.ldoceonline.com/dictionary/{word}\"\n",
    "response = session.get(urlTarget)\n",
    "love = BeautifulSoup(response.text, 'html.parser')\n",
    "body = BeautifulSoup(response.text, 'html.parser').find('body')"
   ]
  },
  {
   "cell_type": "markdown",
   "metadata": {},
   "source": [
    "## 3.2. Extraire l'IPA et les audio US et UK du mot"
   ]
  },
  {
   "cell_type": "code",
   "execution_count": 11,
   "metadata": {},
   "outputs": [
    {
     "name": "stdout",
     "output_type": "stream",
     "text": [
      "Mot : Love \n",
      "IPA : lʌv \n",
      "POS :  verb\n",
      "Prononciation US : https://www.ldoceonline.com/media/english/ameProns/love1.mp3?version=1.2.42\n"
     ]
    },
    {
     "data": {
      "text/html": [
       "\n",
       "                <audio  controls=\"controls\" >\n",
       "                    <source src=\"https://www.ldoceonline.com/media/english/ameProns/love1.mp3\" type=\"audio/mpeg\" />\n",
       "                    Your browser does not support the audio element.\n",
       "                </audio>\n",
       "              "
      ],
      "text/plain": [
       "<IPython.lib.display.Audio object>"
      ]
     },
     "metadata": {},
     "output_type": "display_data"
    },
    {
     "name": "stdout",
     "output_type": "stream",
     "text": [
      "Prononciation UK : https://www.ldoceonline.com/media/english/breProns/brelasdelove.mp3?version=1.2.42\n"
     ]
    },
    {
     "data": {
      "text/html": [
       "\n",
       "                <audio  controls=\"controls\" >\n",
       "                    <source src=\"https://www.ldoceonline.com/media/english/breProns/brelasdelove.mp3\" type=\"audio/mpeg\" />\n",
       "                    Your browser does not support the audio element.\n",
       "                </audio>\n",
       "              "
      ],
      "text/plain": [
       "<IPython.lib.display.Audio object>"
      ]
     },
     "metadata": {},
     "output_type": "display_data"
    }
   ],
   "source": [
    "mots = body.find('span',{\"class\":\"Head\"})\n",
    "pos = mots.findAll('span',{\"class\":\"POS\"})[0].text\n",
    "ipa = mots.findAll('span',{\"class\":\"PRON\"})[0].text\n",
    "audio_UK_url = mots.findAll('span',{\"class\":\"speaker brefile fas fa-volume-up hideOnAmp\"})[0][\"data-src-mp3\"]\n",
    "audio_US_url = mots.findAll('span',{\"class\":\"speaker amefile fas fa-volume-up hideOnAmp\"})[0][\"data-src-mp3\"]\n",
    "\n",
    "print(\"Mot :\", word.capitalize(), \"\\nIPA :\", ipa, \"\\nPOS :\", pos)\n",
    "print(\"Prononciation US :\", audio_US_url)\n",
    "display.display(display.Audio(url=audio_US_url.split(\"?\")[0]))\n",
    "print(\"Prononciation UK :\", audio_UK_url)\n",
    "display.display(display.Audio(url=audio_UK_url.split(\"?\")[0]))"
   ]
  },
  {
   "cell_type": "markdown",
   "metadata": {},
   "source": [
    "## 3.3. Extraire les audio US et UK de tous les POS du mot"
   ]
  },
  {
   "cell_type": "code",
   "execution_count": 12,
   "metadata": {},
   "outputs": [
    {
     "data": {
      "text/html": [
       "<div>\n",
       "<style scoped>\n",
       "    .dataframe tbody tr th:only-of-type {\n",
       "        vertical-align: middle;\n",
       "    }\n",
       "\n",
       "    .dataframe tbody tr th {\n",
       "        vertical-align: top;\n",
       "    }\n",
       "\n",
       "    .dataframe thead th {\n",
       "        text-align: right;\n",
       "    }\n",
       "</style>\n",
       "<table border=\"1\" class=\"dataframe\">\n",
       "  <thead>\n",
       "    <tr style=\"text-align: right;\">\n",
       "      <th></th>\n",
       "      <th>Mot</th>\n",
       "      <th>IPA</th>\n",
       "      <th>POS</th>\n",
       "      <th>Link_US</th>\n",
       "      <th>Link_UK</th>\n",
       "    </tr>\n",
       "  </thead>\n",
       "  <tbody>\n",
       "    <tr>\n",
       "      <th>0</th>\n",
       "      <td>love</td>\n",
       "      <td>lʌv</td>\n",
       "      <td>verb</td>\n",
       "      <td>https://www.ldoceonline.com/media/english/ameP...</td>\n",
       "      <td>https://www.ldoceonline.com/media/english/breP...</td>\n",
       "    </tr>\n",
       "    <tr>\n",
       "      <th>1</th>\n",
       "      <td>love</td>\n",
       "      <td></td>\n",
       "      <td>noun</td>\n",
       "      <td>https://www.ldoceonline.com/media/english/ameP...</td>\n",
       "      <td>https://www.ldoceonline.com/media/english/breP...</td>\n",
       "    </tr>\n",
       "  </tbody>\n",
       "</table>\n",
       "</div>"
      ],
      "text/plain": [
       "    Mot  IPA    POS                                            Link_US  \\\n",
       "0  love  lʌv   verb  https://www.ldoceonline.com/media/english/ameP...   \n",
       "1  love        noun  https://www.ldoceonline.com/media/english/ameP...   \n",
       "\n",
       "                                             Link_UK  \n",
       "0  https://www.ldoceonline.com/media/english/breP...  \n",
       "1  https://www.ldoceonline.com/media/english/breP...  "
      ]
     },
     "execution_count": 12,
     "metadata": {},
     "output_type": "execute_result"
    }
   ],
   "source": [
    "mots = body.findAll('span',{\"class\":\"Head\"})\n",
    "df = pd.DataFrame(columns=[\"Mot\", \"IPA\", \"POS\", \"Link_US\", \"Link_UK\",])\n",
    "for i,m in enumerate(mots):\n",
    "    try:\n",
    "        name = m.findAll('span',{\"class\":\"HWD\"})[0].text\n",
    "        pos = m.findAll('span',{\"class\":\"POS\"})[0].text\n",
    "        try:\n",
    "            ipa = m.findAll('span',{\"class\":\"PRON\"})[0].text\n",
    "        except:\n",
    "            ipa = \"\"\n",
    "        audio_UK_url = m.findAll('span',{\"class\":\"speaker brefile fas fa-volume-up hideOnAmp\"})[0][\"data-src-mp3\"]\n",
    "        audio_US_url = m.findAll('span',{\"class\":\"speaker amefile fas fa-volume-up hideOnAmp\"})[0][\"data-src-mp3\"]\n",
    "        df.loc[i] = [name, ipa, pos, audio_US_url, audio_UK_url]\n",
    "    except:\n",
    "        ok =1\n",
    "df"
   ]
  },
  {
   "cell_type": "markdown",
   "metadata": {},
   "source": [
    "## 4.1. On résume les resultats par site en fonction"
   ]
  },
  {
   "cell_type": "code",
   "execution_count": 13,
   "metadata": {},
   "outputs": [],
   "source": [
    "def scrap_linguee(word):\n",
    "    urlTarget = f\"https://www.linguee.fr/anglais-francais/traduction/{word}.html\"\n",
    "    response = requests.get(urlTarget)\n",
    "    love = BeautifulSoup(response.text, 'html.parser')\n",
    "    body = BeautifulSoup(response.text, 'html.parser').find('body')\n",
    "    span = body.findAll('span',{\"class\":\"tag_lemma\"})\n",
    "    df = pd.DataFrame(columns=[\"Mot\", \"IPA\", \"POS\", \"Link_US\", \"Link_UK\",])\n",
    "    for i,v in enumerate(span):\n",
    "        name = v.findAll('a',{\"class\":\"dictLink\"})\n",
    "        # l'IPA n'est pas mentionné dans Linguee\n",
    "        ipa = \"\"\n",
    "        link = v.findAll('a',{\"class\":\"audio\"})\n",
    "        pos = v.findAll('span',{\"class\":\"tag_wordtype\"})\n",
    "        if len(pos)>0:\n",
    "            for l in link:\n",
    "                audio_US = l['onclick'].split('\"')[1]\n",
    "                audio_UK = l['onclick'].split('\"')[5]\n",
    "                audio_US_url = f\"https://www.linguee.fr/mp3/{audio_US}.mp3\"\n",
    "                audio_UK_url = f\"https://www.linguee.fr/mp3/{audio_UK}.mp3\"\n",
    "                df.loc[i] = [name[0].text, ipa, pos[0].text, audio_US_url, audio_UK_url]\n",
    "    return df\n",
    "\n",
    "def scrap_cambridge(word):\n",
    "    session = HTMLSession()\n",
    "    urlTarget = f\"https://dictionary.cambridge.org/dictionary/english/{word}\"\n",
    "    response = session.get(urlTarget)\n",
    "    love = BeautifulSoup(response.text, 'html.parser')\n",
    "    body = BeautifulSoup(response.text, 'html.parser').find('body')\n",
    "    mots = body.findAll('div',{\"class\":\"pos-header dpos-h\"})\n",
    "    df = pd.DataFrame(columns=[\"Mot\", \"IPA\", \"POS\", \"Link_US\", \"Link_UK\",])\n",
    "    for i,m in enumerate(mots):\n",
    "        name = m.findAll('span',{\"class\":\"hw dhw\"})[0].text\n",
    "        ipa = m.findAll('span',{\"class\":\"pron dpron\"})[0].text.replace(\"/\", \"\")\n",
    "        div = m.findAll('div',{\"class\":\"posgram dpos-g hdib lmr-5\"})\n",
    "        for d in div:\n",
    "            pos = d.text.split(\" \")[0]\n",
    "            try:\n",
    "                audio_UK = m.findAll('span',{\"class\":\"uk dpron-i\"})[0].findAll('source')[0][\"src\"]\n",
    "                audio_US = m.findAll('span',{\"class\":\"us dpron-i\"})[0].findAll('source')[0][\"src\"]\n",
    "                audio_US_url = f\"https://dictionary.cambridge.org{audio_US}\"\n",
    "                audio_UK_url = f\"https://dictionary.cambridge.org{audio_UK}\"\n",
    "                df.loc[i] = [name, ipa, pos, audio_US_url, audio_UK_url]\n",
    "            except:\n",
    "                ok = 1\n",
    "    return df\n",
    "\n",
    "def scrap_longman(word):\n",
    "    session = HTMLSession()\n",
    "    urlTarget = f\"https://www.ldoceonline.com/dictionary/{word}\"\n",
    "    response = session.get(urlTarget)\n",
    "    love = BeautifulSoup(response.text, 'html.parser')\n",
    "    body = BeautifulSoup(response.text, 'html.parser').find('body')\n",
    "    mots = body.findAll('span',{\"class\":\"Head\"})\n",
    "    df = pd.DataFrame(columns=[\"Mot\", \"IPA\", \"POS\", \"Link_US\", \"Link_UK\",])\n",
    "    for i,m in enumerate(mots):\n",
    "        try:\n",
    "            name = m.findAll('span',{\"class\":\"HWD\"})[0].text\n",
    "            pos = m.findAll('span',{\"class\":\"POS\"})[0].text\n",
    "            try:\n",
    "                ipa = m.findAll('span',{\"class\":\"PRON\"})[0].text\n",
    "            except:\n",
    "                ipa = \"\"\n",
    "            audio_UK_url = m.findAll('span',{\"class\":\"speaker brefile fas fa-volume-up hideOnAmp\"})[0][\"data-src-mp3\"]\n",
    "            audio_US_url = m.findAll('span',{\"class\":\"speaker amefile fas fa-volume-up hideOnAmp\"})[0][\"data-src-mp3\"]\n",
    "            df.loc[i] = [name, ipa, pos, audio_US_url, audio_UK_url]\n",
    "        except:\n",
    "            ok =1\n",
    "    return df\n",
    "\n",
    "def show(word):\n",
    "    print(\"Mot :\", word.capitalize())\n",
    "\n",
    "    list_function = [scrap_linguee, scrap_cambridge, scrap_longman]\n",
    "    \n",
    "    for f in list_function:\n",
    "        print(\"\\nSite :\", f.__name__.split(\"_\")[1].capitalize())\n",
    "        \n",
    "        df = f(word)\n",
    "    \n",
    "        out = widgets.Output()\n",
    "        with out:\n",
    "            tableau_label = '<table><tr><th style=\"text-align:center\">IPA</th>\\\n",
    "                                        <th style=\"text-align:center\">POS</th>\\\n",
    "                                        <th style=\"text-align:center\">Audio US</th>\\\n",
    "                                        <th style=\"text-align:center\">Audio UK</th>\\\n",
    "                                        </tr>'\n",
    "            for i in range(len(df)):\n",
    "\n",
    "\n",
    "                tableau_label += '<tr><td>'+df.IPA[i]+'</td>\\\n",
    "                                    <td>'+df.POS[i]+'</td>\\\n",
    "                                      <td> <audio controls src=\"'+df.Link_US[i]+'\"><code>audio</code></audio></td>\\\n",
    "                                      <td> <audio controls src=\"'+df.Link_UK[i]+'\"><code>audio</code></audio></td>\\\n",
    "                                  </tr>'\n",
    "\n",
    "\n",
    "            tableau_label += '</table>'\n",
    "            tableau = display.HTML(tableau_label)\n",
    "            display.display(tableau)\n",
    "\n",
    "\n",
    "        display.display(out)"
   ]
  },
  {
   "cell_type": "markdown",
   "metadata": {},
   "source": [
    "## 4.2. On affiche les résultats"
   ]
  },
  {
   "cell_type": "code",
   "execution_count": 14,
   "metadata": {},
   "outputs": [
    {
     "name": "stdout",
     "output_type": "stream",
     "text": [
      "Mot : Love\n",
      "\n",
      "Site : Linguee\n"
     ]
    },
    {
     "data": {
      "application/vnd.jupyter.widget-view+json": {
       "model_id": "bc12ab2559684d79be316f52386d573e",
       "version_major": 2,
       "version_minor": 0
      },
      "text/plain": [
       "Output()"
      ]
     },
     "metadata": {},
     "output_type": "display_data"
    },
    {
     "name": "stdout",
     "output_type": "stream",
     "text": [
      "\n",
      "Site : Cambridge\n"
     ]
    },
    {
     "data": {
      "application/vnd.jupyter.widget-view+json": {
       "model_id": "3d11ddd2258440029b9de6bb414a28fa",
       "version_major": 2,
       "version_minor": 0
      },
      "text/plain": [
       "Output()"
      ]
     },
     "metadata": {},
     "output_type": "display_data"
    },
    {
     "name": "stdout",
     "output_type": "stream",
     "text": [
      "\n",
      "Site : Longman\n"
     ]
    },
    {
     "data": {
      "application/vnd.jupyter.widget-view+json": {
       "model_id": "fd6470e2fc3f4e1480599ee8147c1a2f",
       "version_major": 2,
       "version_minor": 0
      },
      "text/plain": [
       "Output()"
      ]
     },
     "metadata": {},
     "output_type": "display_data"
    }
   ],
   "source": [
    "show(word)"
   ]
  }
 ],
 "metadata": {
  "kernelspec": {
   "display_name": "Python 3",
   "language": "python",
   "name": "python3"
  },
  "language_info": {
   "codemirror_mode": {
    "name": "ipython",
    "version": 3
   },
   "file_extension": ".py",
   "mimetype": "text/x-python",
   "name": "python",
   "nbconvert_exporter": "python",
   "pygments_lexer": "ipython3",
   "version": "3.8.8"
  }
 },
 "nbformat": 4,
 "nbformat_minor": 4
}
