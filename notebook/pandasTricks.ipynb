{
 "cells": [
  {
   "cell_type": "markdown",
   "metadata": {},
   "source": [
    "# Pandas Tricks\n",
    "\n",
    "*Rappel et/ou découverte de manipulation de matrices de données avec pandas*"
   ]
  },
  {
   "cell_type": "markdown",
   "metadata": {},
   "source": [
    "### Lire un tableur\n",
    "\n"
   ]
  },
  {
   "cell_type": "code",
   "execution_count": 1,
   "metadata": {},
   "outputs": [
    {
     "data": {
      "text/html": [
       "<div>\n",
       "<style scoped>\n",
       "    .dataframe tbody tr th:only-of-type {\n",
       "        vertical-align: middle;\n",
       "    }\n",
       "\n",
       "    .dataframe tbody tr th {\n",
       "        vertical-align: top;\n",
       "    }\n",
       "\n",
       "    .dataframe thead th {\n",
       "        text-align: right;\n",
       "    }\n",
       "</style>\n",
       "<table border=\"1\" class=\"dataframe\">\n",
       "  <thead>\n",
       "    <tr style=\"text-align: right;\">\n",
       "      <th></th>\n",
       "      <th>nbSyll</th>\n",
       "      <th>pron</th>\n",
       "      <th>origin</th>\n",
       "      <th>warning</th>\n",
       "      <th>remarques</th>\n",
       "      <th>POS</th>\n",
       "      <th>lineId</th>\n",
       "      <th>pageId</th>\n",
       "    </tr>\n",
       "  </thead>\n",
       "  <tbody>\n",
       "    <tr>\n",
       "      <th>7569</th>\n",
       "      <td>2</td>\n",
       "      <td>lāʹbo_u_r</td>\n",
       "      <td>L.</td>\n",
       "      <td>NaN</td>\n",
       "      <td>NaN</td>\n",
       "      <td>n.</td>\n",
       "      <td>6.0</td>\n",
       "      <td>126</td>\n",
       "    </tr>\n",
       "    <tr>\n",
       "      <th>3692</th>\n",
       "      <td>3</td>\n",
       "      <td>dĭsăgreeʹ</td>\n",
       "      <td>F.</td>\n",
       "      <td>NaN</td>\n",
       "      <td>NaN</td>\n",
       "      <td>v.</td>\n",
       "      <td>74.0</td>\n",
       "      <td>70</td>\n",
       "    </tr>\n",
       "    <tr>\n",
       "      <th>14723</th>\n",
       "      <td>2</td>\n",
       "      <td>ŭnchāʹſte</td>\n",
       "      <td>NaN</td>\n",
       "      <td>NaN</td>\n",
       "      <td>NaN</td>\n",
       "      <td>a.</td>\n",
       "      <td>37.0</td>\n",
       "      <td>226</td>\n",
       "    </tr>\n",
       "    <tr>\n",
       "      <th>2242</th>\n",
       "      <td>5</td>\n",
       "      <td>cĭrcŭmſcrĭʹption</td>\n",
       "      <td>L.</td>\n",
       "      <td>NaN</td>\n",
       "      <td>NaN</td>\n",
       "      <td>n.</td>\n",
       "      <td>52.0</td>\n",
       "      <td>50</td>\n",
       "    </tr>\n",
       "    <tr>\n",
       "      <th>1633</th>\n",
       "      <td>2</td>\n",
       "      <td>bŭllock</td>\n",
       "      <td>NaN</td>\n",
       "      <td>nbSyll&gt;1 et pas d'accent tonic</td>\n",
       "      <td>NaN</td>\n",
       "      <td>n.</td>\n",
       "      <td>16.0</td>\n",
       "      <td>42</td>\n",
       "    </tr>\n",
       "  </tbody>\n",
       "</table>\n",
       "</div>"
      ],
      "text/plain": [
       "       nbSyll              pron origin                         warning  \\\n",
       "7569        2         lāʹbo_u_r     L.                             NaN   \n",
       "3692        3         dĭsăgreeʹ     F.                             NaN   \n",
       "14723       2         ŭnchāʹſte    NaN                             NaN   \n",
       "2242        5  cĭrcŭmſcrĭʹption     L.                             NaN   \n",
       "1633        2           bŭllock    NaN  nbSyll>1 et pas d'accent tonic   \n",
       "\n",
       "      remarques POS  lineId  pageId  \n",
       "7569        NaN  n.     6.0     126  \n",
       "3692        NaN  v.    74.0      70  \n",
       "14723       NaN  a.    37.0     226  \n",
       "2242        NaN  n.    52.0      50  \n",
       "1633        NaN  n.    16.0      42  "
      ]
     },
     "execution_count": 1,
     "metadata": {},
     "output_type": "execute_result"
    }
   ],
   "source": [
    "import pandas as pd\n",
    "\n",
    "# préciser le chemin du fichier à lire\n",
    "cheminDuFichierCSV = \"./../data/dictionary/1757_Buchanan-J.csv\" \n",
    "\n",
    "# demander à pandas de lire le fichier et garder ce tableau accessible dans une variable\n",
    "dfDicoBuch = pd.read_csv(cheminDuFichierCSV, delimiter=\";\", encoding=\"utf8\")\n",
    "\n",
    "# afficher à l'écran un échantillon du tableau\n",
    "dfDicoBuch.sample(n=5)"
   ]
  },
  {
   "cell_type": "markdown",
   "metadata": {},
   "source": [
    "Pour lires des tableurs aux format xls, xlsx ou odt il faut utiliser pd.read_excel(cheminDuFichier) et je conseil de bien préciser explicitement l'engine à utiliser en paramètre.\n",
    "* dfXlsx = pd.read_excel(cheminDuFichierXLSX, engine=\"openpyxl\")\n",
    "* dfOds = pd.read_excel(cheminDuFichierODS, engine=\"odf\")"
   ]
  },
  {
   "cell_type": "markdown",
   "metadata": {},
   "source": [
    "### Ajouter un nouvelle colonne contenant le resultat d'un traitement"
   ]
  },
  {
   "cell_type": "code",
   "execution_count": 2,
   "metadata": {},
   "outputs": [],
   "source": [
    "# définir une fonction qui retourne quelque chose\n",
    "def sizePron(strPron):\n",
    "    #retourner le nombre de caractère de la prononciation\n",
    "    \n",
    "    return len(strPron)\n",
    "\n"
   ]
  },
  {
   "cell_type": "code",
   "execution_count": 3,
   "metadata": {},
   "outputs": [
    {
     "data": {
      "text/html": [
       "<div>\n",
       "<style scoped>\n",
       "    .dataframe tbody tr th:only-of-type {\n",
       "        vertical-align: middle;\n",
       "    }\n",
       "\n",
       "    .dataframe tbody tr th {\n",
       "        vertical-align: top;\n",
       "    }\n",
       "\n",
       "    .dataframe thead th {\n",
       "        text-align: right;\n",
       "    }\n",
       "</style>\n",
       "<table border=\"1\" class=\"dataframe\">\n",
       "  <thead>\n",
       "    <tr style=\"text-align: right;\">\n",
       "      <th></th>\n",
       "      <th>nbSyll</th>\n",
       "      <th>pron</th>\n",
       "      <th>origin</th>\n",
       "      <th>warning</th>\n",
       "      <th>remarques</th>\n",
       "      <th>POS</th>\n",
       "      <th>lineId</th>\n",
       "      <th>pageId</th>\n",
       "      <th>sizePron</th>\n",
       "    </tr>\n",
       "  </thead>\n",
       "  <tbody>\n",
       "    <tr>\n",
       "      <th>10530</th>\n",
       "      <td>4</td>\n",
       "      <td>prĕʹfĕrable</td>\n",
       "      <td>NaN</td>\n",
       "      <td>NaN</td>\n",
       "      <td>NaN</td>\n",
       "      <td>a.</td>\n",
       "      <td>73.0</td>\n",
       "      <td>167</td>\n",
       "      <td>11</td>\n",
       "    </tr>\n",
       "    <tr>\n",
       "      <th>9522</th>\n",
       "      <td>3</td>\n",
       "      <td>ovĕrloaʹd</td>\n",
       "      <td>NaN</td>\n",
       "      <td>NaN</td>\n",
       "      <td>NaN</td>\n",
       "      <td>v.</td>\n",
       "      <td>70.0</td>\n",
       "      <td>153</td>\n",
       "      <td>9</td>\n",
       "    </tr>\n",
       "    <tr>\n",
       "      <th>13211</th>\n",
       "      <td>2</td>\n",
       "      <td>ſtūʹpid</td>\n",
       "      <td>L.</td>\n",
       "      <td>NaN</td>\n",
       "      <td>NaN</td>\n",
       "      <td>a.</td>\n",
       "      <td>28.0</td>\n",
       "      <td>205</td>\n",
       "      <td>7</td>\n",
       "    </tr>\n",
       "    <tr>\n",
       "      <th>9675</th>\n",
       "      <td>1</td>\n",
       "      <td>pāne</td>\n",
       "      <td>NaN</td>\n",
       "      <td>NaN</td>\n",
       "      <td>NaN</td>\n",
       "      <td>n.</td>\n",
       "      <td>11.0</td>\n",
       "      <td>156</td>\n",
       "      <td>4</td>\n",
       "    </tr>\n",
       "    <tr>\n",
       "      <th>2286</th>\n",
       "      <td>3</td>\n",
       "      <td>clărĕncĭeuʹx</td>\n",
       "      <td>NaN</td>\n",
       "      <td>NaN</td>\n",
       "      <td>NaN</td>\n",
       "      <td>n.</td>\n",
       "      <td>24.0</td>\n",
       "      <td>51</td>\n",
       "      <td>12</td>\n",
       "    </tr>\n",
       "  </tbody>\n",
       "</table>\n",
       "</div>"
      ],
      "text/plain": [
       "       nbSyll          pron origin warning remarques POS  lineId  pageId  \\\n",
       "10530       4   prĕʹfĕrable    NaN     NaN       NaN  a.    73.0     167   \n",
       "9522        3     ovĕrloaʹd    NaN     NaN       NaN  v.    70.0     153   \n",
       "13211       2       ſtūʹpid     L.     NaN       NaN  a.    28.0     205   \n",
       "9675        1          pāne    NaN     NaN       NaN  n.    11.0     156   \n",
       "2286        3  clărĕncĭeuʹx    NaN     NaN       NaN  n.    24.0      51   \n",
       "\n",
       "       sizePron  \n",
       "10530        11  \n",
       "9522          9  \n",
       "13211         7  \n",
       "9675          4  \n",
       "2286         12  "
      ]
     },
     "execution_count": 3,
     "metadata": {},
     "output_type": "execute_result"
    }
   ],
   "source": [
    "# appeler cette fonction sur toutes les lignes de la matrice pour remplir une nouvelle colonne grace à apply\n",
    "dfDicoBuch['sizePron'] = dfDicoBuch.apply(lambda x: sizePron(x['pron']),1)\n",
    "\n",
    "dfDicoBuch.sample(n=5)"
   ]
  },
  {
   "cell_type": "markdown",
   "metadata": {},
   "source": [
    "## Un petit calcul"
   ]
  },
  {
   "cell_type": "code",
   "execution_count": 4,
   "metadata": {},
   "outputs": [
    {
     "data": {
      "text/plain": [
       "9.0"
      ]
     },
     "execution_count": 4,
     "metadata": {},
     "output_type": "execute_result"
    }
   ],
   "source": [
    "dfDicoBuch['sizePron'].median()"
   ]
  },
  {
   "cell_type": "markdown",
   "metadata": {},
   "source": [
    "## Une recherche de valeur"
   ]
  },
  {
   "cell_type": "code",
   "execution_count": 5,
   "metadata": {},
   "outputs": [
    {
     "data": {
      "text/html": [
       "<div>\n",
       "<style scoped>\n",
       "    .dataframe tbody tr th:only-of-type {\n",
       "        vertical-align: middle;\n",
       "    }\n",
       "\n",
       "    .dataframe tbody tr th {\n",
       "        vertical-align: top;\n",
       "    }\n",
       "\n",
       "    .dataframe thead th {\n",
       "        text-align: right;\n",
       "    }\n",
       "</style>\n",
       "<table border=\"1\" class=\"dataframe\">\n",
       "  <thead>\n",
       "    <tr style=\"text-align: right;\">\n",
       "      <th></th>\n",
       "      <th>nbSyll</th>\n",
       "      <th>pron</th>\n",
       "      <th>origin</th>\n",
       "      <th>warning</th>\n",
       "      <th>remarques</th>\n",
       "      <th>POS</th>\n",
       "      <th>lineId</th>\n",
       "      <th>pageId</th>\n",
       "      <th>sizePron</th>\n",
       "    </tr>\n",
       "  </thead>\n",
       "  <tbody>\n",
       "    <tr>\n",
       "      <th>2813</th>\n",
       "      <td>3</td>\n",
       "      <td>contrŏʹller or comptrollĕr</td>\n",
       "      <td>NaN</td>\n",
       "      <td>NaN</td>\n",
       "      <td>NaN</td>\n",
       "      <td>n.</td>\n",
       "      <td>49.0</td>\n",
       "      <td>58</td>\n",
       "      <td>26</td>\n",
       "    </tr>\n",
       "    <tr>\n",
       "      <th>7492</th>\n",
       "      <td>3</td>\n",
       "      <td>kaʹlĕnd_a_r or caʹlĕnd_a_r</td>\n",
       "      <td>NaN</td>\n",
       "      <td>NaN</td>\n",
       "      <td>NaN</td>\n",
       "      <td>n.</td>\n",
       "      <td>2.0</td>\n",
       "      <td>125</td>\n",
       "      <td>26</td>\n",
       "    </tr>\n",
       "  </tbody>\n",
       "</table>\n",
       "</div>"
      ],
      "text/plain": [
       "      nbSyll                        pron origin warning remarques POS  lineId  \\\n",
       "2813       3  contrŏʹller or comptrollĕr    NaN     NaN       NaN  n.    49.0   \n",
       "7492       3  kaʹlĕnd_a_r or caʹlĕnd_a_r    NaN     NaN       NaN  n.     2.0   \n",
       "\n",
       "      pageId  sizePron  \n",
       "2813      58        26  \n",
       "7492     125        26  "
      ]
     },
     "execution_count": 5,
     "metadata": {},
     "output_type": "execute_result"
    }
   ],
   "source": [
    "dfDicoBuch[dfDicoBuch['sizePron']==26.0]"
   ]
  },
  {
   "cell_type": "markdown",
   "metadata": {},
   "source": [
    "## Afficher des graphiques\n",
    "Plusieurs librairie possibles :\n",
    "* matplotlib (static, bonne qualité pour publication)\n",
    "* seaborn (interactif, pour le web)\n",
    "* bokeh (interactif, pour le web)\n",
    "* plotly (interactif, pour le web)"
   ]
  },
  {
   "cell_type": "code",
   "execution_count": 9,
   "metadata": {},
   "outputs": [],
   "source": [
    "import seaborn as sns\n",
    "import matplotlib.pyplot as plt"
   ]
  },
  {
   "cell_type": "code",
   "execution_count": 10,
   "metadata": {},
   "outputs": [
    {
     "data": {
      "text/plain": [
       "<AxesSubplot:xlabel='nbSyll', ylabel='sizePron'>"
      ]
     },
     "execution_count": 10,
     "metadata": {},
     "output_type": "execute_result"
    },
    {
     "data": {
      "application/vnd.jupyter.widget-view+json": {
       "model_id": "cd8160958e76432cbf10efbc30e71637",
       "version_major": 2,
       "version_minor": 0
      },
      "image/png": "[encoded data removed]",
      "text/html": [
       "\n",
       "            <div style=\"display: inline-block;\">\n",
       "                <div class=\"jupyter-widgets widget-label\" style=\"text-align: center;\">\n",
       "                    scatter plot view\n",
       "                </div>\n",
       "                <img src='data:image/png;base64,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' width=640.0/>\n",
       "            </div>\n",
       "        "
      ],
      "text/plain": [
       "Canvas(toolbar=Toolbar(toolitems=[('Home', 'Reset original view', 'home', 'home'), ('Back', 'Back to previous …"
      ]
     },
     "metadata": {},
     "output_type": "display_data"
    }
   ],
   "source": [
    "#magic interface\n",
    "%matplotlib ipympl\n",
    "\n",
    "plt.figure(\"scatter plot view\")\n",
    "sns.scatterplot(data=dfDicoBuch, x=\"nbSyll\", y=\"sizePron\", hue=\"POS\")"
   ]
  },
  {
   "cell_type": "code",
   "execution_count": 11,
   "metadata": {
    "scrolled": true
   },
   "outputs": [
    {
     "data": {
      "text/plain": [
       "<AxesSubplot:xlabel='nbSyll', ylabel='sizePron'>"
      ]
     },
     "execution_count": 11,
     "metadata": {},
     "output_type": "execute_result"
    },
    {
     "data": {
      "application/vnd.jupyter.widget-view+json": {
       "model_id": "24594a5b217c496da887e015a572dd3b",
       "version_major": 2,
       "version_minor": 0
      },
      "image/png": "[encoded data removed]",
      "text/html": [
       "\n",
       "            <div style=\"display: inline-block;\">\n",
       "                <div class=\"jupyter-widgets widget-label\" style=\"text-align: center;\">\n",
       "                    scatter plot view\n",
       "                </div>\n",
       "                <img src='data:image/png;base64,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' width=640.0/>\n",
       "            </div>\n",
       "        "
      ],
      "text/plain": [
       "Canvas(toolbar=Toolbar(toolitems=[('Home', 'Reset original view', 'home', 'home'), ('Back', 'Back to previous …"
      ]
     },
     "metadata": {},
     "output_type": "display_data"
    }
   ],
   "source": [
    "%matplotlib ipympl\n",
    "\n",
    "plt.figure(\"scatter plot view\")\n",
    "sns.scatterplot(data=dfDicoBuch, x=\"nbSyll\", y=\"sizePron\", hue=\"POS\", alpha=0.05)"
   ]
  },
  {
   "cell_type": "markdown",
   "metadata": {},
   "source": [
    "## Manipuler des matrices de format exotique"
   ]
  },
  {
   "cell_type": "code",
   "execution_count": 18,
   "metadata": {},
   "outputs": [
    {
     "data": {
      "text/html": [
       "<div>\n",
       "<style scoped>\n",
       "    .dataframe tbody tr th:only-of-type {\n",
       "        vertical-align: middle;\n",
       "    }\n",
       "\n",
       "    .dataframe tbody tr th {\n",
       "        vertical-align: top;\n",
       "    }\n",
       "\n",
       "    .dataframe thead th {\n",
       "        text-align: right;\n",
       "    }\n",
       "</style>\n",
       "<table border=\"1\" class=\"dataframe\">\n",
       "  <thead>\n",
       "    <tr style=\"text-align: right;\">\n",
       "      <th></th>\n",
       "      <th>hwd</th>\n",
       "      <th>pronSampa</th>\n",
       "    </tr>\n",
       "  </thead>\n",
       "  <tbody>\n",
       "    <tr>\n",
       "      <td>0</td>\n",
       "      <td>a</td>\n",
       "      <td>@</td>\n",
       "    </tr>\n",
       "    <tr>\n",
       "      <td>1</td>\n",
       "      <td>a(2)</td>\n",
       "      <td>eI</td>\n",
       "    </tr>\n",
       "    <tr>\n",
       "      <td>2</td>\n",
       "      <td>a'ready</td>\n",
       "      <td>@ r\\ E d i:</td>\n",
       "    </tr>\n",
       "    <tr>\n",
       "      <td>3</td>\n",
       "      <td>a's</td>\n",
       "      <td>eI z</td>\n",
       "    </tr>\n",
       "    <tr>\n",
       "      <td>4</td>\n",
       "      <td>a.</td>\n",
       "      <td>eI</td>\n",
       "    </tr>\n",
       "  </tbody>\n",
       "</table>\n",
       "</div>"
      ],
      "text/plain": [
       "       hwd    pronSampa\n",
       "0        a            @\n",
       "1     a(2)           eI\n",
       "2  a'ready  @ r\\ E d i:\n",
       "3      a's         eI z\n",
       "4       a.           eI"
      ]
     },
     "execution_count": 18,
     "metadata": {},
     "output_type": "execute_result"
    }
   ],
   "source": [
    "cheminDuDicoBigi = \"./../data/dictionary/2015_Bigi-B.dict\" \n",
    "\n",
    "# ouvrir une matric exotique\n",
    "#dfDicoBigi = pd.read_csv(cheminDuDicoBigi, delimiter=r\" [] \", encoding=\"utf8\")\n",
    "\n",
    "dfDicoBigi = pd.read_csv(cheminDuDicoBigi, delimiter=\" \\[\\] \", encoding=\"utf8\", engine='python', names=['hwd','pronSampa'], skiprows=8 )\n",
    "\n",
    "# afficher à l'écran un échantillon du tableau\n",
    "dfDicoBigi.head(n=5)"
   ]
  },
  {
   "cell_type": "markdown",
   "metadata": {},
   "source": [
    "Intro/rappel Regex : https://gitlab.huma-num.fr/mnauge/cnam-athon-transcrire/-/blob/master/codes/regexBasics.ipynb"
   ]
  },
  {
   "cell_type": "markdown",
   "metadata": {},
   "source": [
    "## Jouer avec deux matrices à la fois"
   ]
  },
  {
   "cell_type": "code",
   "execution_count": 36,
   "metadata": {},
   "outputs": [
    {
     "data": {
      "text/html": [
       "<div>\n",
       "<style scoped>\n",
       "    .dataframe tbody tr th:only-of-type {\n",
       "        vertical-align: middle;\n",
       "    }\n",
       "\n",
       "    .dataframe tbody tr th {\n",
       "        vertical-align: top;\n",
       "    }\n",
       "\n",
       "    .dataframe thead th {\n",
       "        text-align: right;\n",
       "    }\n",
       "</style>\n",
       "<table border=\"1\" class=\"dataframe\">\n",
       "  <thead>\n",
       "    <tr style=\"text-align: right;\">\n",
       "      <th></th>\n",
       "      <th>sampa</th>\n",
       "      <th>ipa</th>\n",
       "    </tr>\n",
       "  </thead>\n",
       "  <tbody>\n",
       "    <tr>\n",
       "      <td>76</td>\n",
       "      <td>X</td>\n",
       "      <td>χ</td>\n",
       "    </tr>\n",
       "    <tr>\n",
       "      <td>5</td>\n",
       "      <td>-\\</td>\n",
       "      <td>‿</td>\n",
       "    </tr>\n",
       "    <tr>\n",
       "      <td>126</td>\n",
       "      <td>d_&lt;</td>\n",
       "      <td>ɗ</td>\n",
       "    </tr>\n",
       "  </tbody>\n",
       "</table>\n",
       "</div>"
      ],
      "text/plain": [
       "    sampa ipa\n",
       "76      X   χ\n",
       "5      -\\   ‿\n",
       "126   d_<   ɗ"
      ]
     },
     "execution_count": 36,
     "metadata": {},
     "output_type": "execute_result"
    }
   ],
   "source": [
    "cheminDuMappingSampaIpa = \"./../data/dictionary/sampa-ipa.txt\" \n",
    "dfMappingSampaIpa = pd.read_csv(cheminDuMappingSampaIpa, delimiter=\" +\", encoding=\"utf8\", engine='python', names=['sampa','ipa'])\n",
    "dfMappingSampaIpa.sample(n=3)"
   ]
  },
  {
   "cell_type": "code",
   "execution_count": 20,
   "metadata": {},
   "outputs": [
    {
     "data": {
      "text/plain": [
       "r      3\n",
       "U~/    2\n",
       "h      2\n",
       "g      2\n",
       "@      2\n",
       "      ..\n",
       "R      1\n",
       "N\\     1\n",
       "r\\`    1\n",
       "q      1\n",
       "_a     1\n",
       "Name: sampa, Length: 177, dtype: int64"
      ]
     },
     "execution_count": 20,
     "metadata": {},
     "output_type": "execute_result"
    }
   ],
   "source": [
    "dfMappingSampaIpa['sampa'].value_counts()"
   ]
  },
  {
   "cell_type": "code",
   "execution_count": 21,
   "metadata": {},
   "outputs": [
    {
     "data": {
      "text/html": [
       "<div>\n",
       "<style scoped>\n",
       "    .dataframe tbody tr th:only-of-type {\n",
       "        vertical-align: middle;\n",
       "    }\n",
       "\n",
       "    .dataframe tbody tr th {\n",
       "        vertical-align: top;\n",
       "    }\n",
       "\n",
       "    .dataframe thead th {\n",
       "        text-align: right;\n",
       "    }\n",
       "</style>\n",
       "<table border=\"1\" class=\"dataframe\">\n",
       "  <thead>\n",
       "    <tr style=\"text-align: right;\">\n",
       "      <th></th>\n",
       "      <th>sampa</th>\n",
       "      <th>ipa</th>\n",
       "    </tr>\n",
       "  </thead>\n",
       "  <tbody>\n",
       "    <tr>\n",
       "      <td>28</td>\n",
       "      <td>@</td>\n",
       "      <td>ə</td>\n",
       "    </tr>\n",
       "    <tr>\n",
       "      <td>29</td>\n",
       "      <td>@</td>\n",
       "      <td>ɛ</td>\n",
       "    </tr>\n",
       "  </tbody>\n",
       "</table>\n",
       "</div>"
      ],
      "text/plain": [
       "   sampa ipa\n",
       "28     @   ə\n",
       "29     @   ɛ"
      ]
     },
     "execution_count": 21,
     "metadata": {},
     "output_type": "execute_result"
    }
   ],
   "source": [
    "dfMappingSampaIpa[dfMappingSampaIpa['sampa']=='@']"
   ]
  },
  {
   "cell_type": "code",
   "execution_count": 22,
   "metadata": {},
   "outputs": [],
   "source": [
    "# ne garder que la première occurence pour éviter une indécision mais ce n'est pas terrible. A discuter avec les linguistes.\n",
    "dfMappingSampaIpa.drop_duplicates(subset=['sampa'], keep='first', inplace=True)"
   ]
  },
  {
   "cell_type": "code",
   "execution_count": 23,
   "metadata": {},
   "outputs": [
    {
     "data": {
      "text/html": [
       "<div>\n",
       "<style scoped>\n",
       "    .dataframe tbody tr th:only-of-type {\n",
       "        vertical-align: middle;\n",
       "    }\n",
       "\n",
       "    .dataframe tbody tr th {\n",
       "        vertical-align: top;\n",
       "    }\n",
       "\n",
       "    .dataframe thead th {\n",
       "        text-align: right;\n",
       "    }\n",
       "</style>\n",
       "<table border=\"1\" class=\"dataframe\">\n",
       "  <thead>\n",
       "    <tr style=\"text-align: right;\">\n",
       "      <th></th>\n",
       "      <th>sampa</th>\n",
       "      <th>ipa</th>\n",
       "    </tr>\n",
       "  </thead>\n",
       "  <tbody>\n",
       "    <tr>\n",
       "      <td>28</td>\n",
       "      <td>@</td>\n",
       "      <td>ə</td>\n",
       "    </tr>\n",
       "  </tbody>\n",
       "</table>\n",
       "</div>"
      ],
      "text/plain": [
       "   sampa ipa\n",
       "28     @   ə"
      ]
     },
     "execution_count": 23,
     "metadata": {},
     "output_type": "execute_result"
    }
   ],
   "source": [
    "dfMappingSampaIpa[dfMappingSampaIpa['sampa']=='@']"
   ]
  },
  {
   "cell_type": "code",
   "execution_count": 48,
   "metadata": {},
   "outputs": [
    {
     "name": "stdout",
     "output_type": "stream",
     "text": [
      "   sampa ipa\n",
      "32     A   ɑ\n",
      "    sampa ipa\n",
      "157    r\\   ɹ\n",
      "    sampa ipa\n",
      "163     t   t\n",
      "    sampa ipa\n",
      "137     i   i\n"
     ]
    }
   ],
   "source": [
    "print(dfMappingSampaIpa[dfMappingSampaIpa['sampa']=='A'])\n",
    "print(dfMappingSampaIpa[dfMappingSampaIpa['sampa']=='r\\\\'])\n",
    "print(dfMappingSampaIpa[dfMappingSampaIpa['sampa']=='t'])\n",
    "print(dfMappingSampaIpa[dfMappingSampaIpa['sampa']=='i'])\n"
   ]
  },
  {
   "cell_type": "code",
   "execution_count": 24,
   "metadata": {},
   "outputs": [],
   "source": [
    "def sampa2ipa(strSampa, dfMapping):\n",
    "    ipaRes = \"\"\n",
    "    \n",
    "    listValSampa = strSampa.split(\" \")\n",
    "    #print(listValSampa)\n",
    "    for valSampa in listValSampa:\n",
    "        dfRowFinded = dfMapping[dfMapping['sampa']==valSampa]\n",
    "\n",
    "        if len(dfRowFinded==1):\n",
    "            ipaRes+=dfRowFinded.iloc[0]['ipa']\n",
    "        else:\n",
    "            ipaRes+='?'\n",
    "    return ipaRes"
   ]
  },
  {
   "cell_type": "code",
   "execution_count": 25,
   "metadata": {},
   "outputs": [
    {
     "data": {
      "text/plain": [
       "'ɑɹti'"
      ]
     },
     "execution_count": 25,
     "metadata": {},
     "output_type": "execute_result"
    }
   ],
   "source": [
    "sampa2ipa(\"A r\\ t i\",dfMappingSampaIpa)"
   ]
  },
  {
   "cell_type": "code",
   "execution_count": 26,
   "metadata": {},
   "outputs": [],
   "source": [
    "dfDicoBigiRich = dfDicoBigi.sample(n=1000).copy()\n",
    "\n",
    "dfDicoBigiRich['ipa'] = dfDicoBigiRich.apply(lambda x: sampa2ipa(x['pronSampa'], dfMappingSampaIpa),1)\n"
   ]
  },
  {
   "cell_type": "code",
   "execution_count": 27,
   "metadata": {},
   "outputs": [
    {
     "data": {
      "text/html": [
       "<div>\n",
       "<style scoped>\n",
       "    .dataframe tbody tr th:only-of-type {\n",
       "        vertical-align: middle;\n",
       "    }\n",
       "\n",
       "    .dataframe tbody tr th {\n",
       "        vertical-align: top;\n",
       "    }\n",
       "\n",
       "    .dataframe thead th {\n",
       "        text-align: right;\n",
       "    }\n",
       "</style>\n",
       "<table border=\"1\" class=\"dataframe\">\n",
       "  <thead>\n",
       "    <tr style=\"text-align: right;\">\n",
       "      <th></th>\n",
       "      <th>hwd</th>\n",
       "      <th>pronSampa</th>\n",
       "      <th>ipa</th>\n",
       "    </tr>\n",
       "  </thead>\n",
       "  <tbody>\n",
       "    <tr>\n",
       "      <td>30665</td>\n",
       "      <td>diede</td>\n",
       "      <td>d i: d</td>\n",
       "      <td>diːd</td>\n",
       "    </tr>\n",
       "    <tr>\n",
       "      <td>78210</td>\n",
       "      <td>monfils</td>\n",
       "      <td>m A n f i l z</td>\n",
       "      <td>mɑnfilz</td>\n",
       "    </tr>\n",
       "    <tr>\n",
       "      <td>3814</td>\n",
       "      <td>angelinos(2)</td>\n",
       "      <td>{ N g @ l i: n @U z</td>\n",
       "      <td>æŋgəliːnoʊz</td>\n",
       "    </tr>\n",
       "    <tr>\n",
       "      <td>42337</td>\n",
       "      <td>footnoting</td>\n",
       "      <td>f U t n @U 4 i N</td>\n",
       "      <td>fʊtnoʊɾiŋ</td>\n",
       "    </tr>\n",
       "    <tr>\n",
       "      <td>103854</td>\n",
       "      <td>scholar's</td>\n",
       "      <td>s k A l 3:r z</td>\n",
       "      <td>skɑlɜ:rz</td>\n",
       "    </tr>\n",
       "  </tbody>\n",
       "</table>\n",
       "</div>"
      ],
      "text/plain": [
       "                 hwd            pronSampa          ipa\n",
       "30665          diede               d i: d         diːd\n",
       "78210        monfils        m A n f i l z      mɑnfilz\n",
       "3814    angelinos(2)  { N g @ l i: n @U z  æŋgəliːnoʊz\n",
       "42337     footnoting     f U t n @U 4 i N    fʊtnoʊɾiŋ\n",
       "103854     scholar's        s k A l 3:r z     skɑlɜ:rz"
      ]
     },
     "execution_count": 27,
     "metadata": {},
     "output_type": "execute_result"
    }
   ],
   "source": [
    "dfDicoBigiRich.sample(n=5)"
   ]
  },
  {
   "cell_type": "markdown",
   "metadata": {},
   "source": [
    "### Sauvegarder la nouvelle matrice\n"
   ]
  },
  {
   "cell_type": "code",
   "execution_count": 28,
   "metadata": {},
   "outputs": [],
   "source": [
    "pathDicoBigiRich = \"./../data/dataframe/BigiRichSample.csv\"\n",
    "dfDicoBigiRich.to_csv(pathDicoBigiRich, sep=\";\",encoding=\"utf8\",index=False)"
   ]
  },
  {
   "cell_type": "code",
   "execution_count": null,
   "metadata": {},
   "outputs": [],
   "source": []
  }
 ],
 "metadata": {
  "kernelspec": {
   "display_name": "Python 3",
   "language": "python",
   "name": "python3"
  },
  "language_info": {
   "codemirror_mode": {
    "name": "ipython",
    "version": 3
   },
   "file_extension": ".py",
   "mimetype": "text/x-python",
   "name": "python",
   "nbconvert_exporter": "python",
   "pygments_lexer": "ipython3",
   "version": "3.7.4"
  }
 },
 "nbformat": 4,
 "nbformat_minor": 4
}
